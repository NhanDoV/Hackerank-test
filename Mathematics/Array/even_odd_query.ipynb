{
 "cells": [
  {
   "cell_type": "markdown",
   "metadata": {},
   "source": [
    "# Introduction\n",
    "[Reference](https://www.hackerrank.com/challenges/even-odd-query/problem?isFullScreen=true)\n",
    "- You are given an array A of size N. You are also given an integer Q. Can you figure out the answer to each of the Q queries?\n",
    "- Each query contains 2 integers x and y, and you need to find whether the value find(x,y) is Odd or Even:\n",
    "\n",
    "            find(int x,int y)\n",
    "            {\n",
    "                if(x>y) return 1;\n",
    "                ans = pow(A[x],find(x+1,y))\n",
    "                return ans\n",
    "            }\n",
    "Note : pow(a,b) = ab.\n",
    "\n",
    "##### Input Format\n",
    "- The first line of the input contains an integer N. The next line contains N space separated non-negative integers(whole numbers less than or equal to 9).\n",
    "- The line after that contains a positive integer, Q , the denotes the number of queries to follow. Q lines follow, each line contains two positive integer x and y separated by a single space.\n",
    "\n",
    "##### Output Format\n",
    "For each query, display `'Even'` if the value returned is `Even`, otherwise display `'Odd'`."
   ]
  },
  {
   "cell_type": "code",
   "execution_count": 26,
   "metadata": {},
   "outputs": [],
   "source": [
    "import math"
   ]
  },
  {
   "cell_type": "markdown",
   "metadata": {},
   "source": [
    "### Input.format description"
   ]
  },
  {
   "cell_type": "code",
   "execution_count": 28,
   "metadata": {},
   "outputs": [
    {
     "name": "stdout",
     "output_type": "stream",
     "text": [
      "arr_count: 3 \t q: 2 \t queries: [[1, 2], [2, 3]]\n"
     ]
    }
   ],
   "source": [
    "arr_count = int(input().strip()) # enter `3`\n",
    "arr = list(map(int, input().rstrip().split())) # enter `3 2 7`\n",
    "q = int(input().strip()) # enter 2\n",
    "queries = []\n",
    "for _ in range(q):\n",
    "    queries.append(list(map(int, input().rstrip().split()))) # Enter `1 2` then `2 3`\n",
    "print(f\"arr_count: {arr_count} \\t q: {q} \\t queries: {queries}\")"
   ]
  },
  {
   "cell_type": "code",
   "execution_count": null,
   "metadata": {},
   "outputs": [
    {
     "name": "stdout",
     "output_type": "stream",
     "text": [
      "1 9 1\n",
      "6 1 6\n",
      "4 9 262144\n",
      "3 4 81\n"
     ]
    },
    {
     "data": {
      "text/plain": [
       "['Odd', 'Even', 'Odd', 'Odd']"
      ]
     },
     "execution_count": 25,
     "metadata": {},
     "output_type": "execute_result"
    }
   ],
   "source": [
    "def solve(arr, queries):\n",
    "    # Write your code here\n",
    "    ls = []\n",
    "    for _ in queries:\n",
    "        res = arr[_[0]-1] ** arr[_[1]-1]\n",
    "        print(arr[_[0]-1], arr[_[1]-1], res)\n",
    "        # arr[x]%2==0 and (x==y or( x<y and arr[x+1]!=0))\n",
    "        if (arr[_[0]-1] % 2 == 0) & (_[0] == _[1] or (_[0] < _[1] and arr[_[0]+2]!=0)):\n",
    "            ls.append(\"Even\")\n",
    "        else:\n",
    "            ls.append(\"Odd\")\n",
    "    return ls\n",
    "solve(arr, queries)"
   ]
  },
  {
   "cell_type": "code",
   "execution_count": null,
   "metadata": {},
   "outputs": [
    {
     "name": "stdout",
     "output_type": "stream",
     "text": [
      "1 9 1\n",
      "6 1 6\n",
      "4 9 262144\n",
      "3 4 81\n"
     ]
    },
    {
     "data": {
      "text/plain": [
       "['Odd', 'Even', 'Even', 'Odd']"
      ]
     },
     "execution_count": 24,
     "metadata": {},
     "output_type": "execute_result"
    }
   ],
   "source": [
    "arr_count = int(input().strip()) # enter `3`\n",
    "arr = list(map(int, input().rstrip().split())) # enter `3 2 7`\n",
    "q = int(input().strip()) # enter 2\n",
    "queries = []\n",
    "for _ in range(q):\n",
    "    queries.append(list(map(int, input().rstrip().split()))) # Enter `1 2` then `2 3`\n",
    "\n",
    "solve(arr, queries)\n"
   ]
  },
  {
   "cell_type": "markdown",
   "metadata": {},
   "source": [
    "## Constraint\n",
    "- 2 ≤ N ≤ 105\n",
    "- 2 ≤ Q ≤ 105\n",
    "- 1 ≤ x,y ≤ N\n",
    "- x ≤ y\n",
    "\n",
    "- Array is 1-indexed.\n",
    "- No 2 consecutive entries in the array will be zero."
   ]
  },
  {
   "cell_type": "code",
   "execution_count": null,
   "metadata": {},
   "outputs": [],
   "source": [
    "def solve(arr, queries):\n",
    "    # Write your code here\n",
    "    ls = []\n",
    "    for _ in queries:\n",
    "        # res = arr[_[0]-1] ** arr[_[1]-1]\n",
    "        # if base of res is even and (`array is 1-indexed` or `No 2 consecutive entries in the array will be zero`)\n",
    "        if (arr[_[0]-1] % 2 == 0) & (_[0] == _[1] or (_[0] < _[1] and arr[_[0]]!=0)):\n",
    "            ls.append(\"Even\")\n",
    "        else:\n",
    "            ls.append(\"Odd\")\n",
    "    return ls"
   ]
  }
 ],
 "metadata": {
  "kernelspec": {
   "display_name": "Python 3",
   "language": "python",
   "name": "python3"
  },
  "language_info": {
   "codemirror_mode": {
    "name": "ipython",
    "version": 3
   },
   "file_extension": ".py",
   "mimetype": "text/x-python",
   "name": "python",
   "nbconvert_exporter": "python",
   "pygments_lexer": "ipython3",
   "version": "3.10.13"
  }
 },
 "nbformat": 4,
 "nbformat_minor": 2
}
