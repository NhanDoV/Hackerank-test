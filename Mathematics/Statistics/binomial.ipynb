{
  "metadata": {
    "kernelspec": {
      "name": "python",
      "display_name": "Python (Pyodide)",
      "language": "python"
    },
    "language_info": {
      "codemirror_mode": {
        "name": "python",
        "version": 3
      },
      "file_extension": ".py",
      "mimetype": "text/x-python",
      "name": "python",
      "nbconvert_exporter": "python",
      "pygments_lexer": "ipython3",
      "version": "3.8"
    }
  },
  "nbformat_minor": 4,
  "nbformat": 4,
  "cells": [
    {
      "cell_type": "markdown",
      "source": "## Binomial 1\r\n\r\nA blindfolded marksman finds that on the average he hits the target 4 times out of 5. If he fires 4 shots, what is the probability of\r\n\r\n- (a) more than 2 hits?\r\n- (b) at least 3 misses?",
      "metadata": {}
    },
    {
      "cell_type": "code",
      "source": "# Enter your code here. Read input from STDIN. Print output to STDOUT\ndef factorial(n):\n    if n == 0:\n        return 1\n    else:\n        return n*factorial(n-1)\ndef comb(n, k):\n    return factorial(n) / (factorial(k) * factorial(n-k))\n\np = 4/5\nN = 4\nprint(\"#a. Prob( > 2 hits):\", round(sum([int(comb(N, k))*p**k * (1-p)**(N-k) for k in [3, 4]]), 3))\nprint(\"#b. Prob( >=3 misses):\", round(sum([int(comb(N, k))*p**k * (1-p)**(N-k) for k in [0, 1]]), 3))",
      "metadata": {
        "trusted": true
      },
      "outputs": [
        {
          "name": "stdout",
          "text": "#a. Prob( > 2 hits): 0.819\n#b. Prob( >=3 misses): 0.027\n",
          "output_type": "stream"
        }
      ],
      "execution_count": 1
    },
    {
      "cell_type": "markdown",
      "source": "## Binomial 2\r\nThe ratio of boys to girls born in Russia is `1.09:1`.\r\n\r\nWhat proportion of Russian families with exactly 6 children will have at least 3 boys? (Ignore the probability of multiple births.)",
      "metadata": {}
    },
    {
      "cell_type": "code",
      "source": "p_boy = 1.09 / (1 + 1.09)\nn = 6\nsum([comb(n, k) * p_boy**k * (1-p_boy)**(6-k) for k in range(3, 7)])",
      "metadata": {
        "trusted": true
      },
      "outputs": [
        {
          "execution_count": 2,
          "output_type": "execute_result",
          "data": {
            "text/plain": "0.6957033161509107"
          },
          "metadata": {}
        }
      ],
      "execution_count": 2
    },
    {
      "cell_type": "markdown",
      "source": "## Binomial 3\r\nA manufacturer of metal pistons finds that on average, 12% of his pistons are rejected because they are either oversized or undersized. What is the probability that a batch of 10 pistons will contain\r\n\r\n- (a) no more than 2 rejects?\r\n- (b) at least 2 rejects?",
      "metadata": {}
    },
    {
      "cell_type": "code",
      "source": "p_rej = 0.12\nN = 10\nprob_a = sum([comb(N, k)*p_rej**k*(1-p_rej)**(N-k) for k in range(3)])\nprob_b = sum([comb(N, k)*p_rej**k*(1-p_rej)**(N-k) for k in range(2, 11)])\n\nprint(\"#a. Prob(No more than 2 rejects):\", round(prob_a, 3))\nprint(\"#b. Prob(At least 2 rejects):\", round(prob_b, 3))",
      "metadata": {
        "trusted": true
      },
      "outputs": [
        {
          "name": "stdout",
          "text": "#a. Prob(No more than 2 rejects): 0.891\n#b. Prob(At least 2 rejects): 0.342\n",
          "output_type": "stream"
        }
      ],
      "execution_count": 3
    }
  ]
}