{
 "cells": [
  {
   "cell_type": "markdown",
   "metadata": {},
   "source": [
    "### 1. Check digits & numeric?\n",
    "Given a string, determine that whether the strings contains a digits or not?"
   ]
  },
  {
   "cell_type": "code",
   "execution_count": 1,
   "metadata": {},
   "outputs": [
    {
     "name": "stdout",
     "output_type": "stream",
     "text": [
      "||         strings         | is digit |is.alphabet-num |  contains digits?  ||\n",
      "||  `123abc`               |  False   |      True      |        True        ||\n",
      "||  `123`                  |   True   |      True      |        True        ||\n",
      "||  `12.24`                |  False   |     False      |        True        ||\n",
      "||  `abc`                  |  False   |      True      |       False        ||\n",
      "||  `12,25`                |  False   |     False      |        True        ||\n",
      "||  `12 + 23 = ??`         |  False   |     False      |        True        ||\n"
     ]
    }
   ],
   "source": [
    "import re\n",
    "\n",
    "text = ['123abc', '123', '12.24', 'abc', '12,25', '12 + 23 = ??']\n",
    "print(f\"||{' strings ': ^25}|{'is digit': ^10}|{'is.alphabet-num': ^16}|{'contains digits?': ^20}||\")\n",
    "for string in text:\n",
    "    c = bool(re.search(r'\\d', string))\n",
    "    d = 'True' if string.isdigit() else 'False'\n",
    "    n = 'True' if string.isalnum() else 'False'\n",
    "    print(f\"||{f'  `{string}`': <25}|{d: ^10}|{n: ^16}|{str(c): ^20}||\")"
   ]
  },
  {
   "cell_type": "markdown",
   "metadata": {},
   "source": [
    "### 2. Check alphabet"
   ]
  },
  {
   "cell_type": "code",
   "execution_count": 2,
   "metadata": {},
   "outputs": [
    {
     "name": "stdout",
     "output_type": "stream",
     "text": [
      "||         strings         |  is.alphabet  |is.alphabet-num | contains alphabet? ||\n",
      "||  `123abc`               |     False     |      True      |        True        ||\n",
      "||  `123`                  |     False     |      True      |       False        ||\n",
      "||  `12.24`                |     False     |     False      |       False        ||\n",
      "||  `abc`                  |     True      |      True      |        True        ||\n",
      "||  `12,25`                |     False     |     False      |       False        ||\n",
      "||  `12 + 23 = ??`         |     False     |     False      |       False        ||\n"
     ]
    }
   ],
   "source": [
    "text = ['123abc', '123', '12.24', 'abc', '12,25', '12 + 23 = ??']\n",
    "print(f\"||{'strings': ^25}|{'is.alphabet': ^15}|{'is.alphabet-num': ^16}|{'contains alphabet?': ^20}||\")\n",
    "for string in text:\n",
    "    c = bool(re.search(r'[a-zA-Z]', string))\n",
    "    d = 'True' if string.isalpha() else 'False'\n",
    "    n = 'True' if string.isalnum() else 'False'\n",
    "    print(f\"||{f'  `{string}`': <25}|{d: ^15}|{n: ^16}|{str(c): ^20}||\")"
   ]
  },
  {
   "cell_type": "markdown",
   "metadata": {},
   "source": [
    "### 3. Check upper/lower\n",
    "- `is_lower`: if all letter is lowercase\n",
    "- `is_upper`: if all letter is uppercase\n",
    "- `is_title`: if all letter is uppercase"
   ]
  },
  {
   "cell_type": "code",
   "execution_count": 3,
   "metadata": {},
   "outputs": [
    {
     "name": "stdout",
     "output_type": "stream",
     "text": [
      "||         strings         |   is.lower    |   is.upper    |      is_title      ||\n",
      "||  `Have a nice day`      |     False     |     False     |       False        ||\n",
      "||  `have A nice Day`      |     False     |     False     |       False        ||\n",
      "||  `have a nice day`      |     True      |     False     |       False        ||\n",
      "||  `HAVE A NICE DAY`      |     False     |     True      |       False        ||\n",
      "||  `Have A Nice Day`      |     False     |     False     |        True        ||\n"
     ]
    }
   ],
   "source": [
    "texts = ['Have a nice day', 'have A nice Day', 'have a nice day', 'HAVE A NICE DAY', 'Have A Nice Day']\n",
    "print(f\"||{'strings': ^25}|{'is.lower': ^15}|{'is.upper': ^15}|{'is_title': ^20}||\")\n",
    "for string in texts:\n",
    "    l = 'True' if string.islower() else 'False'\n",
    "    u = 'True' if string.isupper() else 'False'\n",
    "    t = 'True' if string.istitle() else 'False'\n",
    "    print(f\"||{f'  `{string}`': <25}|{l: ^15}|{u: ^15}|{t: ^20}||\")"
   ]
  },
  {
   "cell_type": "markdown",
   "metadata": {},
   "source": [
    "### 4. Check if ascii?\n",
    "[ASCII](https://www.askpython.com/python/string/detect-ascii-characters-in-strings) is a character encoding standard containing the below:\n",
    "- Numbers from 0-9\n",
    "- upper case and lower case alphabets from a -z and A- Z.\n",
    "- Some special characters."
   ]
  },
  {
   "cell_type": "code",
   "execution_count": 4,
   "metadata": {},
   "outputs": [
    {
     "name": "stdout",
     "output_type": "stream",
     "text": [
      "||              strings              | all is.ascii  ||\n",
      "||  `Hello Everyone, I love Python`  |     True      ||\n",
      "||  `H€llø €v€ryøn€, I løv€ Pythøn`  |     False     ||\n"
     ]
    }
   ],
   "source": [
    "texts = [\"Hello Everyone, I love Python\", \"H€llø €v€ryøn€, I løv€ Pythøn\"]\n",
    "print(f\"||{'strings': ^35}|{'all is.ascii': ^15}||\")\n",
    "for string in texts:\n",
    "    check_ascii = 'True' if string.isascii() else 'False'\n",
    "    print(f\"||{f'  `{string}`': <35}|{check_ascii: ^15}||\")"
   ]
  },
  {
   "cell_type": "markdown",
   "metadata": {},
   "source": [
    "Also, you can use `ord` instead of `isascii` and `re.match(r'^[\\x00-\\x7F]+$', input_string)`\n",
    "- For `ord`, noting that the character is not an ASCII character as the highest value of ASCII is 127.\n",
    "- For `re.match`, the `r'^[\\x00-\\x7F]+$'` is used for matching any string that contains only ASCII characters ie code points from 0 to 27.\n",
    "- For `s.encode`, we use `try-except` then if they contain non-ASCII characters then [UnicodeEncodeError]() is executed in except block."
   ]
  },
  {
   "cell_type": "code",
   "execution_count": 5,
   "metadata": {},
   "outputs": [
    {
     "name": "stdout",
     "output_type": "stream",
     "text": [
      "||              strings              |      is.ascii      |  any(ord in text)  |      re.match      |     use.encode     ||\n",
      "||  `Hello Everyone, I love Python`  |     All ASCII      |     All ASCII      |     All ASCII      |     All ASCII      ||\n",
      "||  `H€llø €v€ryøn€, I løv€ Pythøn`  | contains non-ASCII | contains non-ASCII | contains non-ASCII | contains non-ASCII ||\n"
     ]
    }
   ],
   "source": [
    "print(f\"||{'strings': ^35}|{'is.ascii': ^20}|{'any(ord in text)': ^20}|{'re.match': ^20}|{'use.encode': ^20}||\")\n",
    "for string in texts:\n",
    "    use_isascii = 'All ASCII' if string.isascii() else 'contains non-ASCII'\n",
    "    use_ord = 'contains non-ASCII' if any(ord(c) > 127 for c in string) else 'All ASCII'\n",
    "    use_rematch = 'All ASCII' if re.match(r'^[\\x00-\\x7F]+$', string) else 'contains non-ASCII'\n",
    "    try:\n",
    "        string.encode('ascii')\n",
    "        use_encode = 'All ASCII'\n",
    "    except UnicodeEncodeError:\n",
    "        use_encode = 'contains non-ASCII'\n",
    "    print(f\"||{f'  `{string}`': <35}|{use_isascii: ^20}|{use_ord: ^20}|{use_rematch: ^20}|{use_encode: ^20}||\")"
   ]
  },
  {
   "cell_type": "markdown",
   "metadata": {},
   "source": [
    "### 5. Check Printable & identifier\n",
    "- `printable`: The `isprintable()` method returns True if all the characters are printable, otherwise False (character can be carriage return and line feed)\n",
    "- `identifier`: returns True if the string is a valid identifier, otherwise False. A string is considered a valid identifier if it only contains alphanumeric letters (a-z) and (0-9), or underscores (_). A valid identifier cannot start with a number, or contain any spaces."
   ]
  },
  {
   "cell_type": "code",
   "execution_count": 6,
   "metadata": {},
   "outputs": [
    {
     "name": "stdout",
     "output_type": "stream",
     "text": [
      "||              strings              |       is.printable        |                     is.identifier                     ||\n",
      "||  `Hello! Are you #1?`             |         printable         |not start with a number, or contain any spaces         ||\n",
      "||  `HelloNhanDov`                   |         printable         |valid identifier                                       ||\n",
      "||  `Hello NhanDov`                  |         printable         |not start with a number, or contain any spaces         ||\n",
      "||  `2there`                         |         printable         |not start with a number, or contain any spaces         ||\n",
      "||  `W€lcøm€ tø my GitHub`           |         printable         |not start with a number, or contain any spaces         ||\n",
      "||  `Just for\t fun`                  |       not printable       |not start with a number, or contain any spaces         ||\n",
      "||  `Hello!\n",
      "\tAre you #1?`            |       not printable       |not start with a number, or contain any spaces         ||\n"
     ]
    }
   ],
   "source": [
    "texts = [\"Hello! Are you #1?\", \"HelloNhanDov\", \"Hello NhanDov\", \"2there\", \"W€lcøm€ tø my GitHub\", \"Just for\\t fun\", \"Hello!\\n\\tAre you #1?\"]\n",
    "print(f\"||{'strings': ^35}|{'is.printable': ^27}|{'is.identifier':^55}||\")\n",
    "for string in texts:\n",
    "    is_printable = 'printable' if string.isprintable() else 'not printable'\n",
    "    is_identifier = 'valid identifier' if string.isidentifier() else 'not start with a number, or contain any spaces'\n",
    "    print(f\"||{f'  `{string}`': <35}|{is_printable: ^27}|{is_identifier: <55}||\")"
   ]
  },
  {
   "cell_type": "markdown",
   "metadata": {},
   "source": [
    "### 6. Test\n",
    "Given any input string, your task is to find out if the string contains: \n",
    "- `alphanumeric characters`, \n",
    "- `alphabetical characters`, \n",
    "- `digits`, \n",
    "- `lowercase` and `uppercase` characters.\n",
    "- `space` in text"
   ]
  },
  {
   "cell_type": "code",
   "execution_count": 7,
   "metadata": {},
   "outputs": [
    {
     "name": "stdout",
     "output_type": "stream",
     "text": [
      "||                   strings                   | any alpha-num  | any alphabet | any digits | any-lowercase | any-uppercase | any space ||\n",
      "|| 123 is the largest number now...            |      True      |     True     |    True    |     True      |     False     |   False   ||\n",
      "|| nowsaday, everyone like some...             |      True      |     True     |   False    |     True      |     False     |   False   ||\n",
      "|| $%@^&*kjn /dfh ui J3L;JMF=*3'JIOO9MM 3+3=6  |      True      |     True     |    True    |     True      |     True      |   False   ||\n",
      "|| #$%@^&*                                     |     False      |    False     |   False    |     False     |     False     |   False   ||\n",
      "|| 2there                                      |      True      |     True     |    True    |     True      |     False     |   False   ||\n",
      "|| WWWWWWWWWWWWWWWWWWWWWWWWWWWWW               |      True      |     True     |   False    |     False     |     True      |   False   ||\n",
      "|| 12aahahahah11211jgagag                      |      True      |     True     |    True    |     True      |     False     |   False   ||\n",
      "|| 3some                                       |      True      |     True     |    True    |     True      |     False     |   False   ||\n",
      "|| I dont know this at all                     |      True      |     True     |   False    |     True      |     True      |   False   ||\n"
     ]
    }
   ],
   "source": [
    "texts = [\"123 is the largest number now...\", \"nowsaday, everyone like some...\", \n",
    "         \"$%@^&*kjn /dfh ui J3L;JMF=*3'JIOO9MM 3+3=6\", \"#$%@^&*\", \"2there\",\n",
    "         \"WWWWWWWWWWWWWWWWWWWWWWWWWWWWW\", \"12aahahahah11211jgagag\", \"3some\",\n",
    "         \"I dont know this at all\"]\n",
    "print(f\"||{'strings': ^45}|{'any alpha-num': ^16}|{'any alphabet':^14}|{'any digits': ^12}|{'any-lowercase': ^15}|{'any-uppercase': ^15}|{'any space': ^11}||\")\n",
    "for string in texts:\n",
    "    any_alnum = 'True' if (re.search(r'.*[A-Za-z0-9]+.*', string) is not None) else 'False'\n",
    "    any_albet = 'True' if (re.search(r'.*[A-Za-z]+.*', string) is not None) else 'False'\n",
    "    any_digit = 'True' if (re.search(r'.*[0-9]+.*', string) is not None) else 'False'\n",
    "    any_lower = 'True' if (re.search(r'.*[a-z]+.*', string) is not None) else 'False'\n",
    "    any_upper = 'True' if (re.search(r'.*[A-Z]+.*', string) is not None) else 'False'\n",
    "    any_space = 'True' if string.isspace() else 'False'\n",
    "    print(f\"||{f' {string}': <45}|{any_alnum: ^16}|{any_albet: ^14}|{any_digit: ^12}|{any_lower: ^15}|{any_upper: ^15}|{any_space: ^11}||\")"
   ]
  }
 ],
 "metadata": {
  "kernelspec": {
   "display_name": "Python 3",
   "language": "python",
   "name": "python3"
  },
  "language_info": {
   "codemirror_mode": {
    "name": "ipython",
    "version": 3
   },
   "file_extension": ".py",
   "mimetype": "text/x-python",
   "name": "python",
   "nbconvert_exporter": "python",
   "pygments_lexer": "ipython3",
   "version": "3.10.13"
  }
 },
 "nbformat": 4,
 "nbformat_minor": 2
}
