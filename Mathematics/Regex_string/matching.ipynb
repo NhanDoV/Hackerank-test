{
 "cells": [
  {
   "cell_type": "markdown",
   "metadata": {},
   "source": [
    "All of this problem is taken from [Hackerank-regex (matching)](https://www.hackerrank.com/domains/regex)\n",
    "- 1. [Saying Hi](https://www.hackerrank.com/challenges/saying-hi/problem?isFullScreen=true)\n",
    "- 2. []()"
   ]
  },
  {
   "cell_type": "code",
   "execution_count": null,
   "metadata": {},
   "outputs": [],
   "source": [
    "import re"
   ]
  },
  {
   "cell_type": "markdown",
   "metadata": {},
   "source": []
  }
 ],
 "metadata": {
  "language_info": {
   "name": "python"
  }
 },
 "nbformat": 4,
 "nbformat_minor": 2
}
