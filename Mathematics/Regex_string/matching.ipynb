{
  "cells": [
    {
      "cell_type": "markdown",
      "metadata": {
        "id": "8A-Vug_7B9Ef"
      },
      "source": [
        "All of this problem is taken from [Hackerank-regex (matching)](https://www.hackerrank.com/domains/regex)\n",
        "\n",
        "------------------------------\n",
        "### 1. [Saying Hi](https://www.hackerrank.com/challenges/saying-hi/problem?isFullScreen=true)\n",
        "\n",
        "Given a sentence, $S$, write a RegEx to match the following criteria:\n",
        "\n",
        "- The first character must be the letter `h` or `H`.\n",
        "- The second character must be the letter `i` or `I`.\n",
        "- The third character must be a single space (i.e.: `\\s`).\n",
        "- The fourth character must not be the letter `d` or `D`."
      ]
    },
    {
      "cell_type": "code",
      "execution_count": 1,
      "metadata": {
        "colab": {
          "base_uri": "https://localhost:8080/"
        },
        "id": "bsALwEmu8HpV",
        "outputId": "a717914d-c635-41cd-959f-cbdbde8ad978"
      },
      "outputs": [
        {
          "name": "stdout",
          "output_type": "stream",
          "text": [
            "|=============================================o ================== o ================== |\n",
            "|               input sentence                |  using startswith  |using regex.findall |\n",
            "|---------------------------------------------o  ---------------   o  ---------------   |\n",
            "|Hi Alex how are you doing                    |        True        |        True        |\n",
            "|hI dave how are you doing                    |       False        |       False        |\n",
            "|Good by Alex                                 |       False        |       False        |\n",
            "|hidden agenda                                |       False        |       False        |\n",
            "|Alex greeted Martha by saying Hi Martha      |       False        |       False        |\n",
            "|=============================================o ================== o ================== |\n"
          ]
        }
      ],
      "source": [
        "import re\n",
        "#====================================\n",
        "patt = r\"^hi\\s\"\n",
        "#====================================\n",
        "ls = [\"Hi Alex how are you doing\",\n",
        "      \"hI dave how are you doing\",\n",
        "      \"Good by Alex\",\n",
        "      \"hidden agenda\",\n",
        "      \"Alex greeted Martha by saying Hi Martha\"]\n",
        "#====================================\n",
        "print(f\"|{45*'=': ^45}o{18*'=': ^20}o{18*'=': ^20}|\")\n",
        "print(f\"|{'input sentence': ^45}|{'using startswith': ^20}|{'using regex.findall': ^20}|\")\n",
        "print(f\"|{45*'-': ^45}o{15*'-': ^20}o{15*'-': ^20}|\")\n",
        "#====================================\n",
        "for s in ls:\n",
        "  rcheck = 'True' if (len(re.findall(patt, s.lower())) > 0 and  s.lower()[3]!='d') else 'False'\n",
        "  scheck = 'True' if (s.lower().startswith('hi ') and s.lower()[3]!='d') else 'False'\n",
        "  print(f\"|{s: <45}|{rcheck: ^20}|{scheck: ^20}|\")\n",
        "print(f\"|{45*'=': ^45}o{18*'=': ^20}o{18*'=': ^20}|\")"
      ]
    },
    {
      "cell_type": "markdown",
      "metadata": {
        "id": "0AssoCHLGdjp"
      },
      "source": [
        "### 2. [HackerRank Language](https://www.hackerrank.com/challenges/hackerrank-language/problem?isFullScreen=true)\n",
        "- Every submission at HackerRank has a field called language which indicates the programming language which a hacker used to code his solution.\n",
        "\n",
        "`C:CPP:JAVA:PYTHON:PERL:PHP:RUBY:CSHARP:HASKELL:CLOJURE:BASH:SCALA: ERLANG:CLISP:LUA:BRAINFUCK:JAVASCRIPT:GO:D:OCAML:R:PASCAL:SBCL:DART: GROOVY:OBJECTIVEC`\n",
        "\n",
        "- Sometimes, error-prone API requests can have an invalid language field. Could you find out if a given submission has a valid language field or not?\n",
        "\n",
        "Example\n",
        "\n",
        "|input|result|\n",
        "|:-|:-|\n",
        "|11011 LUA | VALID|\n",
        "|11022 BRAINFUCK| VALID|\n",
        "|11044 X | INVALID |"
      ]
    },
    {
      "cell_type": "code",
      "execution_count": 2,
      "metadata": {
        "colab": {
          "base_uri": "https://localhost:8080/"
        },
        "id": "YtLhznm1As_O",
        "outputId": "0a03afe5-a2ab-45d3-cf31-0db85dcda295"
      },
      "outputs": [
        {
          "name": "stdout",
          "output_type": "stream",
          "text": [
            "|==================  * ======== * ================== * ======== |\n",
            "|Input               |  api_id  |     prog_name      |  result  |\n",
            "|==================  + ======== + ================== + ======== |\n",
            "|1245 Python         |   1245   |       PYTHON       |  VALID   |\n",
            "|1245 XX             |   1245   |         XX         | INVALID  |\n",
            "|11011 R             |  11011   |         R          |  VALID   |\n",
            "|11288 Python-Spark  |  11288   |    PYTHON-SPARK    |  VALID   |\n",
            "|Golang 1245         |  Golang  |        1245        | INVALID  |\n",
            "|11066 Javascript    |  11066   |     JAVASCRIPT     |  VALID   |\n",
            "|10255 php           |  10255   |        PHP         |  VALID   |\n",
            "|==================  * ======== * ================== * ======== |\n"
          ]
        }
      ],
      "source": [
        "check_list = [\"1245 Python\", \"1245 XX\", \"11011 R\", \"11288 Python-Spark\",\n",
        "              \"Golang 1245\", \"11066 Javascript\", \"10255 php\"]\n",
        "#====================================\n",
        "pattern = r'\\b(cpp|c|java|python|perl|php|ruby|csharp|haskell|clojure|bash|scala|erlang|clisp|lua|brainfuck|javascript|go|d|ocaml|r|pascal|sbcl|dart|groovy|objectivec)\\b'\n",
        "reg = re.compile(pattern)\n",
        "print(f\"|{18*'=': <20}*{8*'=':^10}*{18*'=': ^20}*{8*'=': ^10}|\")\n",
        "print(f\"|{'Input': <20}|{'api_id': ^10}|{'prog_name':^20}|{'result': ^10}|\")\n",
        "print(f\"|{18*'=': <20}+{8*'=':^10}+{18*'=': ^20}+{8*'=': ^10}|\")\n",
        "#====================================\n",
        "for text in check_list:\n",
        "    api_id, prog_name = text.split()\n",
        "    if reg.findall(prog_name.lower()):\n",
        "        if api_id.isdigit():\n",
        "            res='VALID'\n",
        "    else:\n",
        "        res = 'INVALID'\n",
        "    print(f\"|{text: <20}|{api_id: ^10}|{prog_name.upper(): ^20}|{res:^10}|\")\n",
        "print(f\"|{18*'=': <20}*{8*'=':^10}*{18*'=': ^20}*{8*'=': ^10}|\")\n",
        "#===================================="
      ]
    },
    {
      "cell_type": "markdown",
      "metadata": {
        "id": "KGS24Z8G7KNw"
      },
      "source": [
        "### 3. [Specific string](https://www.hackerrank.com/challenges/matching-specific-string/copy-from/369835255)"
      ]
    },
    {
      "cell_type": "code",
      "execution_count": 3,
      "metadata": {
        "colab": {
          "base_uri": "https://localhost:8080/"
        },
        "id": "csaZdelh7T2a",
        "outputId": "fb0381ba-f233-4b74-9a71-e8f53765cf75"
      },
      "outputs": [
        {
          "name": "stdout",
          "output_type": "stream",
          "text": [
            "|========================================================================================  * ======== |\n",
            "|                                      Input sentence                                      |Nb.matches|\n",
            "|========================================================================================  + ======== |\n",
            "|The hackerrank team is on a mission...discover & evaluate ...The hackerrank platform is.. |    2     |\n",
            "|j4f, Hackerrank is hackerrank and not hackerrank                                          |    3     |\n",
            "|========================================================================================  + ======== |\n"
          ]
        }
      ],
      "source": [
        "Regex_Pattern = r'hackerrank'\t# Do not delete 'r'.\n",
        "#====================================\n",
        "check_list = [\"The hackerrank team is on a mission...discover & evaluate ...The hackerrank platform is..\",\n",
        "              \"j4f, Hackerrank is hackerrank and not hackerrank\"]\n",
        "#====================================\n",
        "print(f\"|{88*'=': <90}*{8*'=':^10}|\")\n",
        "print(f\"|{'Input sentence': ^90}|{'Nb.matches': ^10}|\")\n",
        "print(f\"|{88*'=': <90}+{8*'=':^10}|\")\n",
        "#====================================\n",
        "for Test_String in check_list:\n",
        "    match = re.findall(Regex_Pattern, Test_String.lower())\n",
        "    print(f\"|{Test_String: <90}|{len(match): ^10}|\")\n",
        "print(f\"|{88*'=': <90}+{8*'=':^10}|\")\n",
        "#===================================="
      ]
    },
    {
      "cell_type": "markdown",
      "metadata": {
        "id": "IFxNZsa_8PSF"
      },
      "source": [
        "### 4. [Digits & non digits](https://www.hackerrank.com/challenges/matching-digits-non-digit-character/problem?isFullScreen=true)"
      ]
    },
    {
      "cell_type": "code",
      "execution_count": 4,
      "metadata": {
        "colab": {
          "base_uri": "https://localhost:8080/"
        },
        "id": "R1rptkf3AtSJ",
        "outputId": "89cca7a5-c5dd-48dd-e549-fad55a500e73"
      },
      "outputs": [
        {
          "name": "stdout",
          "output_type": "stream",
          "text": [
            "|==============================================================  * ======== |\n",
            "|                         Input sentence                         |Nb.matches|\n",
            "|==============================================================  + ======== |\n",
            "|In 06-11-2015, there is an event of skyfall.inc                 |    1     |\n",
            "|Remind that 40*30=1200                                          |    1     |\n",
            "|Is your phone number `036-12-13.057`                            |    0     |\n",
            "|If 20*50=1000 then 50*20=1000                                   |    2     |\n",
            "|Is (20+30)1000=1000*20+30*1000, last modified in 01-01-2024??   |    3     |\n",
            "|==============================================================  + ======== |\n"
          ]
        }
      ],
      "source": [
        "Regex_Pattern = r\"\\d\\d\\D\\d\\d\\D\\d\\d\\d\\d\"\n",
        "#====================================\n",
        "check_list = [\"In 06-11-2015, there is an event of skyfall.inc\",\n",
        "              \"Remind that 40*30=1200\",\n",
        "              \"Is your phone number `036-12-13.057`\",\n",
        "              \"If 20*50=1000 then 50*20=1000\",\n",
        "              \"Is (20+30)1000=1000*20+30*1000, last modified in 01-01-2024??\"]\n",
        "#====================================\n",
        "print(f\"|{62*'=': <64}*{8*'=':^10}|\")\n",
        "print(f\"|{'Input sentence': ^64}|{'Nb.matches': ^10}|\")\n",
        "print(f\"|{62*'=': <64}+{8*'=':^10}|\")\n",
        "#====================================\n",
        "for Test_String in check_list:\n",
        "    match = re.findall(Regex_Pattern, Test_String)\n",
        "    print(f\"|{Test_String: <64}|{len(match): ^10}|\")\n",
        "print(f\"|{62*'=': <64}+{8*'=':^10}|\")"
      ]
    },
    {
      "cell_type": "markdown",
      "metadata": {
        "id": "nLWxpcrk_krv"
      },
      "source": [
        "### 5. [Whitespace & Non-Whitespace Character](https://www.hackerrank.com/challenges/matching-whitespace-non-whitespace-character/problem?isFullScreen=true)\n",
        "\n",
        "You have a test string . Your task is to match the pattern $XXxXXxXX$ where $X$ denotes non-white space characters and $x$ is for white-spaces\n",
        "\n",
        "- Remind that `\\s` matches any `whitespace` character [ `\\r\\n\\t\\f` ]."
      ]
    },
    {
      "cell_type": "code",
      "execution_count": 5,
      "metadata": {
        "colab": {
          "base_uri": "https://localhost:8080/"
        },
        "id": "AyKUub0E_R7q",
        "outputId": "f27258e7-3047-4012-9143-70dfe1f3b98a"
      },
      "outputs": [
        {
          "name": "stdout",
          "output_type": "stream",
          "text": [
            "| ====================================== * ======== |\n",
            "|             Input sentence             |Is matched|\n",
            "| ====================================== + ======== |\n",
            "|Hello  how are you                      |  False   |\n",
            "|Good morning, Sir!                      |  False   |\n",
            "|12 13 15                                |   True   |\n",
            "|12 12 1ee                               |   True   |\n",
            "|12  23    123                           |  False   |\n",
            "|Guten Tag Du bist eine Junge            |   True   |\n",
            "| ====================================== + ======== |\n"
          ]
        }
      ],
      "source": [
        "Regex_Pattern = r\"\\S\\S\\s\\S\\S\\s\\S\\S\"\n",
        "check_list = [\"Hello  how are you\", \"Good morning, Sir!\", \"12 13 15\",\n",
        "              \"12 12 1ee\", \"12  23    123\", \"Guten Tag Du bist eine Junge\"\n",
        "            ]\n",
        "#====================================\n",
        "print(f\"|{38*'=': ^40}*{8*'=':^10}|\")\n",
        "print(f\"|{'Input sentence': ^40}|{'Is matched': ^10}|\")\n",
        "print(f\"|{38*'=': ^40}+{8*'=':^10}|\")\n",
        "#====================================\n",
        "for Test_String in check_list:\n",
        "    match = re.findall(Regex_Pattern, Test_String)\n",
        "    res = 'True' if len(match) else 'False'\n",
        "    print(f\"|{Test_String: <40}|{res: ^10}|\")\n",
        "print(f\"|{38*'=': ^40}+{8*'=':^10}|\")\n"
      ]
    },
    {
      "cell_type": "markdown",
      "metadata": {
        "id": "v7Y2HEB5dqhU"
      },
      "source": [
        "### 6. [Matching Start & End](https://www.hackerrank.com/challenges/matching-start-end/problem?isFullScreen=true)\n",
        "\n",
        "String must **start** (uses `^`) with a `digit` and **end** (uses `$`) with `.` symbol."
      ]
    },
    {
      "cell_type": "code",
      "execution_count": 6,
      "metadata": {
        "colab": {
          "base_uri": "https://localhost:8080/"
        },
        "id": "7KHwhHL1tKVt",
        "outputId": "a4b0f870-f815-4b27-a873-01ada7cb6e67"
      },
      "outputs": [
        {
          "name": "stdout",
          "output_type": "stream",
          "text": [
            "| ============================ * ======== |\n",
            "|        Input sentence        |Is matched|\n",
            "| ============================ + ======== |\n",
            "|con1ca.                       |  False   |\n",
            "|0qwer.                        |   True   |\n",
            "|12abc.                        |   True   |\n",
            "|1dabc.                        |   True   |\n",
            "|1concat.                      |  False   |\n",
            "|3ullshjt.                     |  False   |\n",
            "| ============================ + ======== |\n"
          ]
        }
      ],
      "source": [
        "Regex_Pattern = r\"^\\d\\w\\w\\w\\w.$\"\n",
        "\n",
        "check_list = [\"con1ca.\", \"0qwer.\", \"12abc.\", \"1dabc.\", \"1concat.\", \"3ullshjt.\" ]\n",
        "#====================================\n",
        "print(f\"|{28*'=': ^30}*{8*'=':^10}|\")\n",
        "print(f\"|{'Input sentence': ^30}|{'Is matched': ^10}|\")\n",
        "print(f\"|{28*'=': ^30}+{8*'=':^10}|\")\n",
        "#====================================\n",
        "for Test_String in check_list:\n",
        "    match = re.findall(Regex_Pattern, Test_String)\n",
        "    res = 'True' if len(match) else 'False'\n",
        "    print(f\"|{Test_String: <30}|{res: ^10}|\")\n",
        "print(f\"|{28*'=': ^30}+{8*'=':^10}|\")\n"
      ]
    },
    {
      "cell_type": "markdown",
      "metadata": {
        "id": "tSRh-AhaRTUd"
      },
      "source": [
        "### 7. [Matching Word & Non-Word Character](https://www.hackerrank.com/challenges/matching-word-non-word/problem?isFullScreen=true)\n",
        "- You have a test string $S$. Your task is to match the pattern $xxxXxxxxxxxxxxXxxx$\n",
        "- Here $x$ denotes any `word character` (use **`\\w`**) and $X$ denotes any `non-word character` (with **`\\W`**)."
      ]
    },
    {
      "cell_type": "code",
      "execution_count": 7,
      "metadata": {
        "colab": {
          "base_uri": "https://localhost:8080/"
        },
        "id": "jlr2ggs5SRvG",
        "outputId": "29034fe2-8dd2-409b-a324-84d986ffa11b"
      },
      "outputs": [
        {
          "name": "stdout",
          "output_type": "stream",
          "text": [
            "| ================================================ * ======== |\n",
            "|                  Input sentence                  |Is matched|\n",
            "| ================================================ + ======== |\n",
            "|www.hackerrank.com                                |   True   |\n",
            "|132.__________.co_                                |   True   |\n",
            "|xxx@diskonmemay.com                               |  False   |\n",
            "|www.taodabotay.com                                |   True   |\n",
            "|http://www.wikipedia.com.http://www.hackerrank.com|   True   |\n",
            "| ================================================ + ======== |\n"
          ]
        }
      ],
      "source": [
        "Regex_Pattern = r\"\\w\\w\\w\\W\\w\\w\\w\\w\\w\\w\\w\\w\\w\\w\\W\\w\\w\\w\"\n",
        "check_list = [\"www.hackerrank.com\", \"132.__________.co_\",\n",
        "              \"xxx@diskonmemay.com\", \"www.taodabotay.com\",\n",
        "              \"http://www.wikipedia.com.http://www.hackerrank.com\"]\n",
        "#====================================\n",
        "print(f\"|{48*'=': ^50}*{8*'=':^10}|\")\n",
        "print(f\"|{'Input sentence': ^50}|{'Is matched': ^10}|\")\n",
        "print(f\"|{48*'=': ^50}+{8*'=':^10}|\")\n",
        "#====================================\n",
        "for Test_String in check_list:\n",
        "    match = re.findall(Regex_Pattern, Test_String)\n",
        "    res = 'True' if len(match) else 'False'\n",
        "    print(f\"|{Test_String: <50}|{res: ^10}|\")\n",
        "print(f\"|{48*'=': ^50}+{8*'=':^10}|\")"
      ]
    },
    {
      "cell_type": "markdown",
      "metadata": {
        "id": "MRMwM-3dkp8h"
      },
      "source": [
        "### 8. [Matching Anything But a Newline](https://www.hackerrank.com/challenges/matching-anything-but-new-line/problem?isFullScreen=true)\n",
        "- You have a test string $S$.\n",
        "- Your task is to write a regular expression that matches only and exactly strings of form: $$ abc.def.ghi.jkx $$\n",
        "where each variable $a,b,c,d,e,f,g,h,i,j,k,x$ can be any `single character` except the newline."
      ]
    },
    {
      "cell_type": "code",
      "execution_count": 8,
      "metadata": {
        "colab": {
          "base_uri": "https://localhost:8080/"
        },
        "id": "kJ2uV9CSj7Bl",
        "outputId": "738173c8-4e19-4a27-9636-bdcf00cce8bd"
      },
      "outputs": [
        {
          "name": "stdout",
          "output_type": "stream",
          "text": [
            "| ================================================ * ======== |\n",
            "|                  Input sentence                  |Is matched|\n",
            "| ================================================ + ======== |\n",
            "|1123.456.abc.def                                  |  False   |\n",
            "|123.456.abc.def                                   |   True   |\n",
            "|`!@.#$%.^&*.()_                                   |   True   |\n",
            "|dish.fuck.cat                                     |  False   |\n",
            "|123.123.123.132.123.123                           |  False   |\n",
            "|...............................                   |  False   |\n",
            "|123.123.123.1234                                  |  False   |\n",
            "|123.123.123.132.123.123                           |  False   |\n",
            "|...............                                   |   True   |\n",
            "|`!@.#$%.^&*.()_                                   |   True   |\n",
            "| ================================================ + ======== |\n"
          ]
        }
      ],
      "source": [
        "regex_pattern = r\"^(.){3}\\.(.){3}\\.(.){3}\\.(.){3}$\" # other option: r\"^...\\....\\....\\....$\"\n",
        "\n",
        "check_list = [\"1123.456.abc.def\", \"123.456.abc.def\", \"`!@.#$%.^&*.()_\", \"dish.fuck.cat\",\n",
        "              \"123.123.123.132.123.123\", \"...............................\", \"123.123.123.1234\",\n",
        "              \"123.123.123.132.123.123\", \"...............\", \"`!@.#$%.^&*.()_\"]\n",
        "#====================================\n",
        "print(f\"|{48*'=': ^50}*{8*'=':^10}|\")\n",
        "print(f\"|{'Input sentence': ^50}|{'Is matched': ^10}|\")\n",
        "print(f\"|{48*'=': ^50}+{8*'=':^10}|\")\n",
        "#====================================\n",
        "for test_string in check_list:\n",
        "    is_match = re.match(regex_pattern, test_string) is not None\n",
        "    res = 'True' if is_match else 'False'\n",
        "    print(f\"|{test_string: <50}|{res: ^10}|\")\n",
        "print(f\"|{48*'=': ^50}+{8*'=':^10}|\")"
      ]
    },
    {
      "cell_type": "markdown",
      "metadata": {
        "id": "oXqvFQ4FaWkl"
      },
      "source": [
        "### 9. [Matching Specific Characters](https://www.hackerrank.com/challenges/matching-specific-characters/problem?isFullScreen=true)\n",
        "You have a test string $S$. Your task is to write a regex that will match  with following conditions:\n",
        "\n",
        "- must be of length: 6\n",
        "- First character: 1, 2 or 3\n",
        "- Second character: 1, 2 or 0\n",
        "- Third character: x, s or 0\n",
        "- Fourth character: 3, 0 , A or a\n",
        "- Fifth character: x, s or u\n",
        "- Sixth character: . or ,"
      ]
    },
    {
      "cell_type": "code",
      "execution_count": 9,
      "metadata": {
        "colab": {
          "base_uri": "https://localhost:8080/"
        },
        "id": "3jmwgIK_bAcQ",
        "outputId": "c9559d44-6e4c-4476-cb38-1ec4ea234b53"
      },
      "outputs": [
        {
          "name": "stdout",
          "output_type": "stream",
          "text": [
            "| ====================================== * ======== |\n",
            "|             Input sentence             |Is matched|\n",
            "| ====================================== + ======== |\n",
            "|1203x.                                  |   True   |\n",
            "|3000s..                                 |  False   |\n",
            "|1200s.                                  |   True   |\n",
            "|`1200u.                                 |  False   |\n",
            "|13000u.                                 |  False   |\n",
            "|22xAu,                                  |   True   |\n",
            "|320ax.                                  |   True   |\n",
            "|1200s, a great mathematican born        |  False   |\n",
            "|1@0&*(`=-/)                             |  False   |\n",
            "| ====================================== + ======== |\n"
          ]
        }
      ],
      "source": [
        "regex_pattern = r\"^[123][120][xs0][30aA][xsu][,.]$\"\n",
        "#====================================\n",
        "check_list = [\"1203x.\", \"3000s..\", \"1200s.\", \"`1200u.\", \"13000u.\", \"22xAu,\", \"320ax.\",\n",
        "              \"1200s, a great mathematican born\", \"1@0&*(`=-/)\"]\n",
        "#====================================\n",
        "print(f\"|{38*'=': ^40}*{8*'=':^10}|\")\n",
        "print(f\"|{'Input sentence': ^40}|{'Is matched': ^10}|\")\n",
        "print(f\"|{38*'=': ^40}+{8*'=':^10}|\")\n",
        "#====================================\n",
        "for test_string in check_list:\n",
        "    is_match = re.match(regex_pattern, test_string) is not None\n",
        "    res = 'True' if is_match else 'False'\n",
        "    print(f\"|{test_string: <40}|{res: ^10}|\")\n",
        "print(f\"|{38*'=': ^40}+{8*'=':^10}|\")"
      ]
    },
    {
      "cell_type": "markdown",
      "metadata": {
        "id": "waL-ghaDfavf"
      },
      "source": [
        "### 10. [Matching Character Ranges](https://www.hackerrank.com/challenges/matching-range-of-characters/problem?isFullScreen=true)\n",
        "Write a RegEx that will match a string satisfying the following conditions:\n",
        "- The string's length is $\\geq 5$.\n",
        "- The first character **must** be a `lowercase English alphabetic` character.\n",
        "- The second character **must** be a `positive digit`. Note that we consider **zero** to be `neither positive nor negative`.\n",
        "- The third character **must not** be a `lowercase English alphabetic` (using the caret `^` inside the `[]`, e.g, `[^a-z]`)character.\n",
        "- The fourth character **must not** be an `uppercase English alphabetic` character.\n",
        "- The fifth character **must** be an `uppercase English alphabetic` character."
      ]
    },
    {
      "cell_type": "code",
      "execution_count": 10,
      "metadata": {
        "colab": {
          "base_uri": "https://localhost:8080/"
        },
        "id": "3VisslXBbArM",
        "outputId": "380f833d-c8b4-4b3f-9699-bcaf6fc37d63"
      },
      "outputs": [
        {
          "name": "stdout",
          "output_type": "stream",
          "text": [
            "| ====================================== * ======== |\n",
            "|             Input sentence             |Is matched|\n",
            "| ====================================== + ======== |\n",
            "|a2Bcc                                   |  False   |\n",
            "|a2a.`                                   |  False   |\n",
            "|h4CkR                                   |   True   |\n",
            "| ====================================== + ======== |\n"
          ]
        }
      ],
      "source": [
        "regex_pattern = r\"^[a-z][1-9][^a-z][^A-Z][A-Z]\"\n",
        "#====================================\n",
        "check_list = [\"a2Bcc\", \"a2a.`\", \"h4CkR\"]\n",
        "#====================================\n",
        "print(f\"|{38*'=': ^40}*{8*'=':^10}|\")\n",
        "print(f\"|{'Input sentence': ^40}|{'Is matched': ^10}|\")\n",
        "print(f\"|{38*'=': ^40}+{8*'=':^10}|\")\n",
        "#====================================\n",
        "for test_string in check_list:\n",
        "    is_match = re.match(regex_pattern, test_string) is not None\n",
        "    res = 'True' if is_match else 'False'\n",
        "    print(f\"|{test_string: <40}|{res: ^10}|\")\n",
        "print(f\"|{38*'=': ^40}+{8*'=':^10}|\")"
      ]
    },
    {
      "cell_type": "markdown",
      "metadata": {
        "id": "rEy1oKEt7eVh"
      },
      "source": [
        "### 11. [Matching {x} Repetitions](https://www.hackerrank.com/challenges/matching-x-repetitions/problem?isFullScreen=true)\n",
        "You have a test string $S$. Your task is to write a regex that will match  using the following conditions:\n",
        "\n",
        "- $S$ must be of length equal to 45.\n",
        "- The first $40$ characters should consist of `letters` (both lowercase and uppercase), or of `even digits`.\n",
        "- The last $5$ characters should consist of `odd digits` or `whitespace characters`."
      ]
    },
    {
      "cell_type": "code",
      "execution_count": 11,
      "metadata": {
        "colab": {
          "base_uri": "https://localhost:8080/"
        },
        "id": "wKTO5sg6JuES",
        "outputId": "9a63599e-e43e-4024-a514-df508fd3fa04"
      },
      "outputs": [
        {
          "name": "stdout",
          "output_type": "stream",
          "text": [
            "| ================================================ * ======== |\n",
            "|                  Input sentence                  |Is matched|\n",
            "| ================================================ + ======== |\n",
            "|2222222222aaaaaaaaaa2222222222aaaaaaaaaa13 57     |   True   |\n",
            "|x4202v2A22A8a6aaaaaa2G2222m222qwertyYuIo13957     |   True   |\n",
            "|x4202v2A22A8a6aaaaaa2G2222m222qwertyYuIo139   7   |  False   |\n",
            "|x4202v2A22A8a6aaaaaa2G2222m222qwertyYuIo1395779   |  False   |\n",
            "|abc0deF2plL4ooo6uuu8mmmm2NnnnnnnnnN2024Z 3979     |   True   |\n",
            "| ================================================ + ======== |\n"
          ]
        }
      ],
      "source": [
        "regex_pattern = r'^[a-zA-Z02468]{40}[\\s13579]{5}$'\n",
        "#====================================\n",
        "check_list = [\"2222222222aaaaaaaaaa2222222222aaaaaaaaaa13 57\",\n",
        "              \"x4202v2A22A8a6aaaaaa2G2222m222qwertyYuIo13957\",\n",
        "              \"x4202v2A22A8a6aaaaaa2G2222m222qwertyYuIo139   7\",\n",
        "              \"x4202v2A22A8a6aaaaaa2G2222m222qwertyYuIo1395779\",\n",
        "              \"abc0deF2plL4ooo6uuu8mmmm2NnnnnnnnnN2024Z 3979\"\n",
        "              ]\n",
        "#====================================\n",
        "print(f\"|{48*'=': ^50}*{8*'=':^10}|\")\n",
        "print(f\"|{'Input sentence': ^50}|{'Is matched': ^10}|\")\n",
        "print(f\"|{48*'=': ^50}+{8*'=':^10}|\")\n",
        "#====================================\n",
        "for test_string in check_list:\n",
        "    is_match = re.search(regex_pattern, test_string)\n",
        "    res = 'True' if is_match else 'False'\n",
        "    print(f\"|{test_string: <50}|{res: ^10}|\")\n",
        "print(f\"|{48*'=': ^50}+{8*'=':^10}|\")"
      ]
    },
    {
      "cell_type": "markdown",
      "metadata": {
        "id": "BwtnFq-EiuUI"
      },
      "source": [
        "### 12. [Matching {x, y} Repetitions](https://www.hackerrank.com/challenges/matching-x-y-repetitions/problem?isFullScreen=true)\n",
        "You have a test string $S$. Your task is to write a regex that will match $S$ using the following conditions:\n",
        "- $S$ should begin with $1$ or $2$ digits.\n",
        "- After that, $S$ should have $3$ or more `letters` (both lowercase and uppercase).\n",
        "- Then $S$ should end with up to $3$ $.$ symbol(s). You can end with $0$ to $3$ $.$ symbol(s), inclusively.\n",
        "\n",
        "##### For Example:\n",
        "- `w{3,5}` : It will match the character w , $3$ or $5$ times.\n",
        "- `[xyz]{5,}` : It will match the character `x, y` or `z` $5$ or more times.\n",
        "- `\\d{1, 4}` : It will match any digits $1, 2, 3$ or $4$ times."
      ]
    },
    {
      "cell_type": "code",
      "execution_count": 12,
      "metadata": {
        "colab": {
          "base_uri": "https://localhost:8080/"
        },
        "id": "_ZeSHOk5jpSq",
        "outputId": "d616279d-a973-4664-951c-1daafb4859d7"
      },
      "outputs": [
        {
          "name": "stdout",
          "output_type": "stream",
          "text": [
            "| ================================================ * ======== |\n",
            "|                  Input sentence                  |Is matched|\n",
            "| ================================================ + ======== |\n",
            "|3threeormorealphabets.                            |   True   |\n",
            "|12 years ago, we found a mystery thing to solve...|  False   |\n",
            "|1appleisnotenoughforallpeoplehere...              |   True   |\n",
            "|1goodbyeisnotenoughforever.                       |   True   |\n",
            "|1Letter.                                          |   True   |\n",
            "|12iscalledadozen.                                 |   True   |\n",
            "|123A.                                             |  False   |\n",
            "| ================================================ + ======== |\n"
          ]
        }
      ],
      "source": [
        "regex_pattern = r'^\\d{1,2}[a-zA-Z]{3,}\\.{0,3}$'\n",
        "#====================================\n",
        "check_list = [\"3threeormorealphabets.\",\n",
        "              \"12 years ago, we found a mystery thing to solve...\",\n",
        "              \"1appleisnotenoughforallpeoplehere...\",\n",
        "              \"1goodbyeisnotenoughforever.\",\n",
        "              \"1Letter.\", \"12iscalledadozen.\", \"123A.\"\n",
        "              ]\n",
        "#====================================\n",
        "print(f\"|{48*'=': ^50}*{8*'=':^10}|\")\n",
        "print(f\"|{'Input sentence': ^50}|{'Is matched': ^10}|\")\n",
        "print(f\"|{48*'=': ^50}+{8*'=':^10}|\")\n",
        "#====================================\n",
        "for test_string in check_list:\n",
        "    is_match = re.search(regex_pattern, test_string)\n",
        "    res = 'True' if is_match else 'False'\n",
        "    print(f\"|{test_string: <50}|{res: ^10}|\")\n",
        "print(f\"|{48*'=': ^50}+{8*'=':^10}|\")"
      ]
    },
    {
      "cell_type": "markdown",
      "metadata": {
        "id": "KxdVUQepnEzX"
      },
      "source": [
        "### 13. [Matching Zero Or More Repetitions](https://www.hackerrank.com/challenges/matching-zero-or-more-repetitions/problem?isFullScreen=true)\n",
        "\n",
        "You have a test string $S$. Your task is to write a regex that will match  using the following conditions:\n",
        "\n",
        "- $S$ should begin with $2$ or more `digits`.\n",
        "- After that, $S$ should have $0$ or more `lowercase letters`.\n",
        "- should end with $0$ or more `uppercase letters`\n",
        "\n",
        "#### For Example:\n",
        "- `w*` : It will match the character w $0$ or more times.\n",
        "- `[xyz]*` : It will match the characters x, y or z $0$ or more times.\n",
        "- `\\d*` : It will match any digit $0$ or more times.\n"
      ]
    },
    {
      "cell_type": "code",
      "execution_count": 13,
      "metadata": {
        "colab": {
          "base_uri": "https://localhost:8080/"
        },
        "id": "Fnei86ATnL-d",
        "outputId": "1f0b1d39-f20e-4c7a-ce5d-91c86c2e936a"
      },
      "outputs": [
        {
          "name": "stdout",
          "output_type": "stream",
          "text": [
            "| ================== * ======== |\n",
            "|   Input sentence   |Is matched|\n",
            "| ================== + ======== |\n",
            "|2daysAGO            |  False   |\n",
            "|2daysagO            |  False   |\n",
            "|14                  |   True   |\n",
            "|a1234               |  False   |\n",
            "|2daysag0            |  False   |\n",
            "|2daysaGO            |  False   |\n",
            "|2daysAgo            |  False   |\n",
            "| ================== + ======== |\n"
          ]
        }
      ],
      "source": [
        "regex_pattern = r'^\\d{2,}[a-z]*[A-Z]*$'\n",
        "#====================================\n",
        "check_list = [\"2daysAGO\", \"2daysagO\", '14', 'a1234', \"2daysag0\", \"2daysaGO\", \"2daysAgo\"]\n",
        "#====================================\n",
        "print(f\"|{18*'=': ^20}*{8*'=':^10}|\")\n",
        "print(f\"|{'Input sentence': ^20}|{'Is matched': ^10}|\")\n",
        "print(f\"|{18*'=': ^20}+{8*'=':^10}|\")\n",
        "#====================================\n",
        "for test_string in check_list:\n",
        "    is_match = re.search(regex_pattern, test_string)\n",
        "    res = 'True' if is_match else 'False'\n",
        "    print(f\"|{test_string: <20}|{res: ^10}|\")\n",
        "print(f\"|{18*'=': ^20}+{8*'=':^10}|\")"
      ]
    },
    {
      "cell_type": "markdown",
      "metadata": {
        "id": "reQuNpRz-vub"
      },
      "source": [
        "### 14. [Matching One Or More Repetitions](https://www.hackerrank.com/challenges/matching-one-or-more-repititions/problem?isFullScreen=true)\n",
        "You have a test string $S$. Your task is to write a regex that will match  using the following conditions:\n",
        "- $S$ should begin with $1$ or more digits.\n",
        "- After that,  should have $1$ or more `uppercase letters`.\n",
        "- $S$ should end with $1$ or more `lowercase letters`.\n",
        "\n",
        "#### Example\n",
        "- `w+` : It will match the character w $1$ or more times.\n",
        "- `[xyz]+` : It will match the character x, y or z $1$ or more times.\n",
        "- `\\d+` : It will match any digit $1$ or more times."
      ]
    },
    {
      "cell_type": "code",
      "execution_count": 14,
      "metadata": {
        "colab": {
          "base_uri": "https://localhost:8080/"
        },
        "id": "8_JGj9_vAAaT",
        "outputId": "2e8365b2-26c5-4257-b83e-f4b33c826326"
      },
      "outputs": [
        {
          "name": "stdout",
          "output_type": "stream",
          "text": [
            "| ================== * ======== |\n",
            "|   Input sentence   |Is matched|\n",
            "| ================== + ======== |\n",
            "|1Qa                 |   True   |\n",
            "|120Aa               |   True   |\n",
            "|`hello,2`           |  False   |\n",
            "|?$%abcAa            |  False   |\n",
            "|lp2As)(/            |  False   |\n",
            "|120AAaabb           |   True   |\n",
            "|2 there, anyone here|  False   |\n",
            "| ================== + ======== |\n"
          ]
        }
      ],
      "source": [
        "regex_pattern = r'^\\d+[A-Z]+[a-z]+$'\n",
        "#====================================\n",
        "check_list = [\"1Qa\", \"120Aa\", \"`hello,2`\", \"?$%abcAa\", \"lp2As)(/\", \"120AAaabb\", \"2 there, anyone here\"]\n",
        "#====================================\n",
        "print(f\"|{18*'=': ^20}*{8*'=':^10}|\")\n",
        "print(f\"|{'Input sentence': ^20}|{'Is matched': ^10}|\")\n",
        "print(f\"|{18*'=': ^20}+{8*'=':^10}|\")\n",
        "#====================================\n",
        "for test_string in check_list:\n",
        "    is_match = re.search(regex_pattern, test_string)\n",
        "    res = 'True' if is_match else 'False'\n",
        "    print(f\"|{test_string: <20}|{res: ^10}|\")\n",
        "print(f\"|{18*'=': ^20}+{8*'=':^10}|\")"
      ]
    },
    {
      "cell_type": "markdown",
      "metadata": {
        "id": "MEnUFjnqA90X"
      },
      "source": [
        "### 15. [Matching Ending Items](https://www.hackerrank.com/challenges/matching-ending-items/problem?isFullScreen=true)\n",
        "Write a RegEx to match a test string, $S$, under the following conditions:\n",
        "- $S$ should consist of **only** `lowercase` and `uppercase letters` (no numbers or symbols).\n",
        "- $S$ should end in `s`."
      ]
    },
    {
      "cell_type": "code",
      "execution_count": 15,
      "metadata": {
        "colab": {
          "base_uri": "https://localhost:8080/"
        },
        "id": "yJxAhbE-BiFj",
        "outputId": "e85ff8de-f58c-4481-8541-9f354e6daff9"
      },
      "outputs": [
        {
          "name": "stdout",
          "output_type": "stream",
          "text": [
            "| ================== * ======== |\n",
            "|   Input sentence   |Is matched|\n",
            "| ================== + ======== |\n",
            "|Kites               |   True   |\n",
            "|Napas               |   True   |\n",
            "|dallas              |   True   |\n",
            "|s                   |   True   |\n",
            "|keRas               |   True   |\n",
            "|1ess                |  False   |\n",
            "| ================== + ======== |\n"
          ]
        }
      ],
      "source": [
        "#regex_pattern = r'[a-z\\DA-Z]+'\n",
        "regex_pattern = r'^[a-zA-Z]*s$'\n",
        "#====================================\n",
        "check_list = [\"Kites\", \"Napas\", \"dallas\", \"s\", \"keRas\", \"1ess\"]\n",
        "#====================================\n",
        "print(f\"|{18*'=': ^20}*{8*'=':^10}|\")\n",
        "print(f\"|{'Input sentence': ^20}|{'Is matched': ^10}|\")\n",
        "print(f\"|{18*'=': ^20}+{8*'=':^10}|\")\n",
        "#====================================\n",
        "for test_string in check_list:\n",
        "    is_match = re.search(regex_pattern, test_string)\n",
        "    res = 'True' if is_match else 'False'\n",
        "    print(f\"|{test_string: <20}|{res: ^10}|\")\n",
        "print(f\"|{18*'=': ^20}+{8*'=':^10}|\")"
      ]
    },
    {
      "cell_type": "markdown",
      "metadata": {
        "id": "KrJobEjzvuKq"
      },
      "source": [
        "### 16. [Alternative Matching](https://www.hackerrank.com/challenges/alternative-matching/problem?isFullScreen=true)\n",
        "Given a test string, $S$, write a RegEx that matches  under the following conditions:\n",
        "\n",
        "- $S$ must start with `Mr.`, `Mrs.`, `Ms.`, `Dr.` or `Er.`.\n",
        "- The rest of the string must contain only one or more English alphabetic letters (upper and lowercase)."
      ]
    },
    {
      "cell_type": "code",
      "execution_count": 16,
      "metadata": {
        "colab": {
          "base_uri": "https://localhost:8080/"
        },
        "id": "cp6kM6dNv8RR",
        "outputId": "8b843a02-49a3-4204-9df5-385319719753"
      },
      "outputs": [
        {
          "name": "stdout",
          "output_type": "stream",
          "text": [
            "| ================== * ======== |\n",
            "|   Input sentence   |Is matched|\n",
            "| ================== + ======== |\n",
            "|Mr#DOSHI            |  False   |\n",
            "|Mr.DOSHI            |   True   |\n",
            "|Sir.DoNhan          |   True   |\n",
            "|Mr.Nhan             |   True   |\n",
            "|Sr Nhan             |  False   |\n",
            "| ================== + ======== |\n"
          ]
        }
      ],
      "source": [
        "#regex_pattern = r'^(Mr|Mrs|Ms|Dr|Er).[a-zA-Z]+$' noting that . = \\. while using regex\n",
        "regex_pattern = r'^(Mr|Mrs|Ms|Dr|Er|Sir)\\.([a-zA-Z]+)$'\n",
        "check_list = [\"Mr#DOSHI\", \"Mr.DOSHI\", \"Sir.DoNhan\", \"Mr.Nhan\", \"Sr Nhan\"]\n",
        "#====================================\n",
        "print(f\"|{18*'=': ^20}*{8*'=':^10}|\")\n",
        "print(f\"|{'Input sentence': ^20}|{'Is matched': ^10}|\")\n",
        "print(f\"|{18*'=': ^20}+{8*'=':^10}|\")\n",
        "#====================================\n",
        "for test_string in check_list:\n",
        "    is_match = re.search(regex_pattern, test_string)\n",
        "    res = 'True' if is_match else 'False'\n",
        "    print(f\"|{test_string: <20}|{res: ^10}|\")\n",
        "print(f\"|{18*'=': ^20}+{8*'=':^10}|\")"
      ]
    },
    {
      "cell_type": "markdown",
      "metadata": {
        "id": "UgEOzGcPWEae"
      },
      "source": [
        "### 17. [Matching Word Boundaries](https://www.hackerrank.com/challenges/matching-word-boundaries/problem?isFullScreen=true)\n",
        "You have a test String $S$. Your task is to write a regex which will match word starting with vowel (`a,e,i,o, u`, `A, E, I , O` or `U`).\n",
        "- The matched word can be of any length. The matched word should **consist of letters (lowercase and uppercase both) only**.\n",
        "- The matched word must **start** and **end** with a word boundary.\n",
        "-----------------------\n",
        "`\\b` assert position at a word boundary. $3$ different positions qualify for word boundaries :\n",
        "- ► **Before the first character** in the string, if the first character is a word character.\n",
        "- ► **Between two characters** in the string, where one is a word character and the other is not a word character.\n",
        "- ► **After the last character** in the string, if the last character is a word character."
      ]
    },
    {
      "cell_type": "code",
      "execution_count": 23,
      "metadata": {
        "colab": {
          "base_uri": "https://localhost:8080/"
        },
        "id": "PV_WRGfKWD3L",
        "outputId": "a332a3ce-3f95-48f5-f6ee-a2132a200723"
      },
      "outputs": [
        {
          "name": "stdout",
          "output_type": "stream",
          "text": [
            "| ================================== * ======== |\n",
            "|           Input sentence           |Is matched|\n",
            "| ================================== + ======== |\n",
            "|Found any match?                    |   True   |\n",
            "|found3 i0                           |  False   |\n",
            "|found3 isdvnslknc98098sdcsdbc       |  False   |\n",
            "|404 not found                       |  False   |\n",
            "|just kjdjng!there is nothing here   |   True   |\n",
            "|yep, Sir Nhan                       |  False   |\n",
            "| ================================== + ======== |\n"
          ]
        }
      ],
      "source": [
        "regex_pattern = r'\\b(a|o|e|u|i|A|O|E|U|I)[a-zA-Z]*\\b'\n",
        "check_list = [\"Found any match?\", \"found3 i0\", \"found3 isdvnslknc98098sdcsdbc\",\n",
        "              \"404 not found\", \"just kjdjng!\"\n",
        "              \"there is nothing here\", \"yep, Sir Nhan\"]\n",
        "#====================================\n",
        "print(f\"|{34*'=': ^36}*{8*'=':^10}|\")\n",
        "print(f\"|{'Input sentence': ^36}|{'Is matched': ^10}|\")\n",
        "print(f\"|{34*'=': ^36}+{8*'=':^10}|\")\n",
        "#====================================\n",
        "for test_string in check_list:\n",
        "    is_match = re.search(regex_pattern, test_string)\n",
        "    res = 'True' if is_match else 'False'\n",
        "    print(f\"|{test_string: <36}|{res: ^10}|\")\n",
        "print(f\"|{34*'=': ^36}+{8*'=':^10}|\")"
      ]
    },
    {
      "cell_type": "markdown",
      "metadata": {
        "id": "wFLAGiDXZMXU"
      },
      "source": [
        "### 18. [Matching Same Text Again & Again](https://www.hackerrank.com/challenges/matching-same-text-again-again/problem?isFullScreen=true)\n",
        "Reminder:\n",
        "- This tool (\\1 references the first capturing group) matches the same text as previously matched by the capturing group. For example **`(\\d)\\1`** can match 00, 11, 22, 33, 44, 55, 66, 77, 88 or 99.\n",
        "-------------------\n",
        "You have a test string $S$. Your task is to write a regex that will match  with the following conditions:\n",
        "- $S$ must be of length: $20$\n",
        "- $1^{\\text{st}}$ character: lowercase letter.\n",
        "- $2^{\\text{nd}}$ character: word character.\n",
        "- $3^{\\text{rd}}$ character: whitespace character.\n",
        "- $4^{\\text{th}}$ character: non word character.\n",
        "- $5^{\\text{th}}$ character: digit.\n",
        "- $6^{\\text{th}}$ character: non digit.\n",
        "- $7^{\\text{th}}$ character: uppercase letter.\n",
        "- $8^{\\text{th}}$ character: letter (either lowercase or uppercase).\n",
        "- $9^{\\text{th}}$ character: vowel (a, e, i , o , u, A, E, I, O or U).\n",
        "- $10^{\\text{th}}$ character: non whitespace character.\n",
        "- $11^{\\text{th}}$ character: should be same as 1st character.\n",
        "- $12^{\\text{th}}$ character: should be same as 2nd character.\n",
        "- $13^{\\text{th}}$ character: should be same as 3rd character.\n",
        "- $14^{\\text{th}}$ character: should be same as 4th character.\n",
        "- $15^{\\text{th}}$ character: should be same as 5th character.\n",
        "- $16^{\\text{th}}$ character: should be same as 6th character.\n",
        "- $17^{\\text{th}}$ character: should be same as 7th character.\n",
        "- $18^{\\text{th}}$ character: should be same as 8th character.\n",
        "- $19^{\\text{th}}$ character: should be same as 9th character.\n",
        "- $20^{\\text{th}}$ character: should be same as 10th character."
      ]
    },
    {
      "cell_type": "code",
      "execution_count": 27,
      "metadata": {
        "colab": {
          "base_uri": "https://localhost:8080/"
        },
        "id": "4t3qBMZOaTKx",
        "outputId": "192bd302-ccb6-4042-d290-db62533e9eae"
      },
      "outputs": [
        {
          "name": "stdout",
          "output_type": "stream",
          "text": [
            "| ================================== * ======== |\n",
            "|           Input sentence           |Is matched|\n",
            "| ================================== + ======== |\n",
            "|ab #1?AZa$ab #1?AZa$                |   True   |\n",
            "|hello there how are you?            |  False   |\n",
            "|have you married                    |  False   |\n",
            "|is everythjing ok bro               |  False   |\n",
            "|ab -9kUlaaab -9kUlad                |  False   |\n",
            "|aC #1?AZa$aC #1?AZa$                |   True   |\n",
            "| ================================== + ======== |\n"
          ]
        }
      ],
      "source": [
        "regex_pattern = r'([a-z]\\w\\s\\W\\d\\D[A-Z][a-zA-Z][aeiouAEIOU]\\S)\\1'\n",
        "check_list = [\"ab #1?AZa$ab #1?AZa$\", \"hello there how are you?\",\n",
        "              \"have you married\", \"is everythjing ok bro\",\n",
        "              \"ab -9kUlaaab -9kUlad\", \"aC #1?AZa$aC #1?AZa$\"\n",
        "              ]\n",
        "#====================================\n",
        "print(f\"|{34*'=': ^36}*{8*'=':^10}|\")\n",
        "print(f\"|{'Input sentence': ^36}|{'Is matched': ^10}|\")\n",
        "print(f\"|{34*'=': ^36}+{8*'=':^10}|\")\n",
        "#====================================\n",
        "for test_string in check_list:\n",
        "    is_match = re.search(regex_pattern, test_string)\n",
        "    res = 'True' if is_match else 'False'\n",
        "    print(f\"|{test_string: <36}|{res: ^10}|\")\n",
        "print(f\"|{34*'=': ^36}+{8*'=':^10}|\")"
      ]
    }
  ],
  "metadata": {
    "colab": {
      "provenance": []
    },
    "kernelspec": {
      "display_name": "Python 3",
      "name": "python3"
    },
    "language_info": {
      "name": "python"
    }
  },
  "nbformat": 4,
  "nbformat_minor": 0
}
