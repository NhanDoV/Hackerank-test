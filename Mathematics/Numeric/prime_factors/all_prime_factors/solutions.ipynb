{
 "cells": [
  {
   "cell_type": "code",
   "execution_count": 1,
   "metadata": {},
   "outputs": [
    {
     "data": {
      "text/plain": [
       "[2, 2, 5, 5, 5]"
      ]
     },
     "execution_count": 1,
     "metadata": {},
     "output_type": "execute_result"
    }
   ],
   "source": [
    "from math import *\n",
    "\n",
    "def all_primes(n):\n",
    "    prime_factors = []\n",
    "    N = n \n",
    "    for i in range(2, 1+n):\n",
    "        while N%i == 0:\n",
    "            prime_factors.append(i)\n",
    "            N = N // i\n",
    "        if i < N:\n",
    "            i = i + 1\n",
    "        else:\n",
    "            break\n",
    "    return prime_factors\n",
    "\n",
    "all_primes(500)"
   ]
  },
  {
   "cell_type": "code",
   "execution_count": 2,
   "metadata": {},
   "outputs": [
    {
     "name": "stdout",
     "output_type": "stream",
     "text": [
      "6 has 2 prime-factors: [2, 3]\n",
      "5 has 1 prime-factors: [5]\n",
      "2 has 1 prime-factors: [2]\n",
      "10 has 2 prime-factors: [2, 5]\n",
      "1280 has 9 prime-factors: [2, 2, 2, 2, 2, 2, 2, 2, 5]\n",
      "4096 has 12 prime-factors: [2, 2, 2, 2, 2, 2, 2, 2, 2, 2, 2, 2]\n",
      "12121 has 3 prime-factors: [17, 23, 31]\n",
      "121121 has 5 prime-factors: [7, 11, 11, 11, 13]\n",
      "121212 has 7 prime-factors: [2, 2, 3, 3, 7, 13, 37]\n",
      "121244 has 4 prime-factors: [2, 2, 17, 1783]\n",
      "121288 has 4 prime-factors: [2, 2, 2, 15161]\n",
      "121244288 has 9 prime-factors: [2, 2, 2, 2, 2, 2, 2, 11, 86111]\n"
     ]
    }
   ],
   "source": [
    "check_list = [6, 5, 2, 10, 1280, 4096, 12121, 121121, 121212, 121244, 121288, 121244288]\n",
    "for num in check_list:\n",
    "    primes_fct = all_primes(num)\n",
    "    if len(primes_fct) == 0:\n",
    "        print(f\"{num} is a prime and 1 and {num} are its prime-factors\")\n",
    "    else:\n",
    "        print(f\"{num} has {len(primes_fct)} prime-factors: {primes_fct}\")"
   ]
  },
  {
   "cell_type": "markdown",
   "metadata": {},
   "source": [
    "## Leonardo 's prime factors\n",
    "\n",
    "Leonardo loves primes and created $q$ queries where each query takes the form of an integer, $n$. For each $n$, count the maximum number of distinct prime factors of any number in the inclusive range $[1, n]$. [Reference](https://www.hackerrank.com/challenges/leonardo-and-prime/problem?isFullScreen=true)\n",
    "\n",
    "**`Note:`** Recall that a prime number is only divisible by $1$ and itself, and $1$ is not a prime number.\n",
    "\n",
    "###### Example\n",
    "The maximum number of distinct prime factors for values less than or equal to $100$ is $3$. One value with $3$ distinct prime factors is $30$. Another is $42$"
   ]
  },
  {
   "cell_type": "code",
   "execution_count": 3,
   "metadata": {},
   "outputs": [
    {
     "data": {
      "text/plain": [
       "5"
      ]
     },
     "execution_count": 3,
     "metadata": {},
     "output_type": "execute_result"
    }
   ],
   "source": [
    "def primeCount(n):\n",
    "    if n == 1:\n",
    "        res = 1\n",
    "    else:\n",
    "        ls = [len(set(all_primes(x))) for x in range(1, n+1)]\n",
    "        res = max(ls)\n",
    "    return res\n",
    "\n",
    "primeCount(5000)"
   ]
  },
  {
   "cell_type": "markdown",
   "metadata": {},
   "source": [
    "### How to improve this better for large numbers?\n",
    "Noting that we will based on the product of distinct-primes, so if the product of these first $N$ primes numbers ($n_1, ..., n_N$) is exceeded a certain threshold $X$, then that meant \"at most $N$ primes in \" \n",
    "\n",
    "- We will find all the 20 first primes: `2, 3, 5, 7, 11, 13, 17, etc`"
   ]
  },
  {
   "cell_type": "code",
   "execution_count": 7,
   "metadata": {},
   "outputs": [
    {
     "name": "stdout",
     "output_type": "stream",
     "text": [
      "[2, 3, 5, 7, 11, 13, 17, 19, 23, 29, 31, 37, 41, 43, 47, 53, 59, 61, 67, 71, 73, 79, 83, 89, 97]\n"
     ]
    }
   ],
   "source": [
    "def is_prime(x):\n",
    "    \"\"\"\n",
    "        Loop only on the odd numbers from 3 to sqrt(x) to find the division-factors\n",
    "        Time complexity: sqrt(n) / 2\n",
    "    \"\"\"\n",
    "    prime_ls = []\n",
    "    for k in range(3, 2+int(sqrt(x)), 2):\n",
    "        if (x % k == 0) and (k != x):\n",
    "            prime_ls.append(k)\n",
    "    if ((len(prime_ls) > 0) or (x % 2 == 0) and x!= 2) or (x==1):\n",
    "        return False\n",
    "    else:\n",
    "        return True\n",
    "first_20_primes = []\n",
    "for num in range(100):\n",
    "    if is_prime(num):\n",
    "        first_20_primes.append(num)\n",
    "print(first_20_primes)"
   ]
  },
  {
   "cell_type": "code",
   "execution_count": 9,
   "metadata": {},
   "outputs": [
    {
     "name": "stdout",
     "output_type": "stream",
     "text": [
      "3\n",
      "4\n",
      "4\n",
      "15\n",
      "14\n",
      "14\n"
     ]
    }
   ],
   "source": [
    "first_20_primes = [2, 3, 5, 7, 11, 13, 17, 19, 23, 29, 31, 37, 41, 43, 47, 53, 59]\n",
    "check_list = [100, 1000, 2048, 614889782588491410, 614889782221484655, 614889781878977503]\n",
    "\n",
    "def primeCount(n):\n",
    "    check_score = 0\n",
    "    cumprod = 1\n",
    "    for prime in first_20_primes:\n",
    "        if cumprod <= n:\n",
    "            check_score += 1\n",
    "            cumprod *= prime            \n",
    "        else:\n",
    "            break\n",
    "    return check_score - 1\n",
    "\n",
    "for num in check_list:\n",
    "    print(primeCount(num))"
   ]
  }
 ],
 "metadata": {
  "kernelspec": {
   "display_name": "Python 3",
   "language": "python",
   "name": "python3"
  },
  "language_info": {
   "codemirror_mode": {
    "name": "ipython",
    "version": 3
   },
   "file_extension": ".py",
   "mimetype": "text/x-python",
   "name": "python",
   "nbconvert_exporter": "python",
   "pygments_lexer": "ipython3",
   "version": "3.10.13"
  }
 },
 "nbformat": 4,
 "nbformat_minor": 2
}
