{
 "cells": [
  {
   "cell_type": "markdown",
   "metadata": {},
   "source": [
    "# Introduction\n",
    "[Reference](https://www.hackerrank.com/challenges/closest-number/problem?isFullScreen=true)\n",
    "\n",
    "You are given $3$ numbers $a, b$ and $x$. You need to output the multiple of $x$ which is closest to $a^b$. If more than one answer exists , display the smallest one.\n",
    "\n",
    "##### Input Format\n",
    "- The first line contains $T$, the number of testcases.\n",
    "- $T$ lines follow, each line contains $3$ space separated integers ($a, b$ and $x$ respectively)\n",
    "\n",
    "##### Constraints\n",
    "- 1 ≤ T ≤ 105\n",
    "- 1 ≤ x ≤ 109\n",
    "- 0 < ab ≤ 109\n",
    "- 1 ≤ a ≤ 109\n",
    "- -109 ≤ b ≤ 109\n",
    "\n",
    "##### Output Format\n",
    "For each test case , output the multiple of $x$ which is closest to $a^b$. \n",
    "\n",
    "### Solution\n",
    "For any $x$, then the nearest values to $a^b$ can be greater or less (lower) than $a^b$ hence we need to find the range of $a^b$\n",
    "\n",
    "Now we consider $z = a^b$ then we must find $k \\in \\mathbb{Z}$ such that \n",
    "\n",
    "$$ k = \\text{argmin} | z - kx | $$\n",
    "\n",
    "Hence\n",
    "- $k = \\left[ \\dfrac{z}{x} \\right] $ if \n",
    "$$\\min \\left\\lbrace \\left\\vert z - x \\left[ \\dfrac{z}{x} \\right] \\right\\vert, \\left\\vert z - x \\left( 1 + \\left[ \\dfrac{z}{x} \\right] \\right) \\right\\vert \\right \\rbrace=x \\left[ \\dfrac{z}{x} \\right] $$\n",
    "- $k = \\left( 1 + \\left[ \\dfrac{z}{x} \\right] \\right)$ if \n",
    "$$\\min \\left\\lbrace \\left\\vert z - x \\left[ \\dfrac{z}{x} \\right] \\right\\vert, \\left\\vert z - x \\left( 1 + \\left[ \\dfrac{z}{x} \\right] \\right) \\right\\vert \\right \\rbrace=x \\left(\\left[ \\dfrac{z}{x} \\right] + 1 \\right)$$\n",
    "\n",
    "For example,\n",
    "- If $z = 26, x=9$ then $\\left[ \\dfrac{z}{x} \\right] = 2$ and hence $k=3$ since $|26 - (2+1)*9| \\leq |26 - 2*9|$\n",
    "- If $z = 10, x=3$ then $\\left[ \\dfrac{z}{x} \\right] = 3$ and hence $k=3$ since $|10 - 3*3| \\leq |10 - (3+1)*9|$"
   ]
  },
  {
   "cell_type": "code",
   "execution_count": 8,
   "metadata": {},
   "outputs": [
    {
     "name": "stdout",
     "output_type": "stream",
     "text": [
      "For z = 10, then the multiples of 3 nearest z is 9 (which be lower than z)\n",
      "For z = 26, then the multiples of 9 nearest z is 27 (which be greater than z)\n",
      "For z = 1, then the multiples of 3 nearest z is 0 (which be lower than z)\n",
      "For z = 0, then the multiples of 5 nearest z is 0 (which be greater than z)\n",
      "For z = 1, then the multiples of 1 nearest z is 1 (which be greater than z)\n",
      "Your calculation is invalid since the quotient 0 must be not equal to 0!!\n"
     ]
    },
    {
     "ename": "TypeError",
     "evalue": "'<' not supported between instances of 'NoneType' and 'int'",
     "output_type": "error",
     "traceback": [
      "\u001b[0;31m---------------------------------------------------------------------------\u001b[0m",
      "\u001b[0;31mTypeError\u001b[0m                                 Traceback (most recent call last)",
      "Cell \u001b[0;32mIn[8], line 17\u001b[0m\n\u001b[1;32m     15\u001b[0m check_list \u001b[38;5;241m=\u001b[39m [(\u001b[38;5;241m10\u001b[39m, \u001b[38;5;241m3\u001b[39m),(\u001b[38;5;241m26\u001b[39m, \u001b[38;5;241m9\u001b[39m), (\u001b[38;5;241m1\u001b[39m, \u001b[38;5;241m3\u001b[39m), (\u001b[38;5;241m0\u001b[39m, \u001b[38;5;241m5\u001b[39m), (\u001b[38;5;241m1\u001b[39m, \u001b[38;5;241m1\u001b[39m), (\u001b[38;5;241m1\u001b[39m, \u001b[38;5;241m0\u001b[39m)]\n\u001b[1;32m     16\u001b[0m \u001b[38;5;28;01mfor\u001b[39;00m num, mod \u001b[38;5;129;01min\u001b[39;00m check_list:\n\u001b[0;32m---> 17\u001b[0m     cases \u001b[38;5;241m=\u001b[39m \u001b[38;5;124m'\u001b[39m\u001b[38;5;124mlower\u001b[39m\u001b[38;5;124m'\u001b[39m \u001b[38;5;28;01mif\u001b[39;00m \u001b[43mmultiples_closest\u001b[49m\u001b[43m(\u001b[49m\u001b[43mnum\u001b[49m\u001b[43m,\u001b[49m\u001b[43m \u001b[49m\u001b[43mmod\u001b[49m\u001b[43m)\u001b[49m\u001b[43m \u001b[49m\u001b[38;5;241;43m<\u001b[39;49m\u001b[43m \u001b[49m\u001b[43mnum\u001b[49m \u001b[38;5;28;01melse\u001b[39;00m \u001b[38;5;124m'\u001b[39m\u001b[38;5;124mgreater\u001b[39m\u001b[38;5;124m'\u001b[39m\n\u001b[1;32m     18\u001b[0m     \u001b[38;5;28mprint\u001b[39m(\u001b[38;5;124mf\u001b[39m\u001b[38;5;124m\"\u001b[39m\u001b[38;5;124mFor z = \u001b[39m\u001b[38;5;132;01m{\u001b[39;00mnum\u001b[38;5;132;01m}\u001b[39;00m\u001b[38;5;124m, then the multiples of \u001b[39m\u001b[38;5;132;01m{\u001b[39;00mmod\u001b[38;5;132;01m}\u001b[39;00m\u001b[38;5;124m nearest z is \u001b[39m\u001b[38;5;132;01m{\u001b[39;00mmultiples_closest(num,\u001b[38;5;250m \u001b[39mmod)\u001b[38;5;132;01m}\u001b[39;00m\u001b[38;5;124m (which be \u001b[39m\u001b[38;5;132;01m{\u001b[39;00mcases\u001b[38;5;132;01m}\u001b[39;00m\u001b[38;5;124m than z)\u001b[39m\u001b[38;5;124m\"\u001b[39m)\n",
      "\u001b[0;31mTypeError\u001b[0m: '<' not supported between instances of 'NoneType' and 'int'"
     ]
    }
   ],
   "source": [
    "import math\n",
    "\n",
    "def multiples_closest(z, mod):\n",
    "    \"\"\"\n",
    "        Returns the multiples of mod which nearest to z\n",
    "    \"\"\"\n",
    "    if mod > 0:\n",
    "        low = z // mod * mod\n",
    "        high = low + mod\n",
    "        return low if z - low <= high - z else high\n",
    "    else:\n",
    "        print(f\"Your calculation is invalid since the quotient {mod} must be not equal to 0!!\")\n",
    "        pass\n",
    "\n",
    "check_list = [(10, 3),(26, 9), (1, 3), (0, 5), (1, 1), (1, 0)]\n",
    "for num, mod in check_list:\n",
    "    cases = 'lower' if multiples_closest(num, mod) < num else 'greater'\n",
    "    print(f\"For z = {num}, then the multiples of {mod} nearest z is {multiples_closest(num, mod)} (which be {cases} than z)\")"
   ]
  },
  {
   "cell_type": "code",
   "execution_count": 10,
   "metadata": {},
   "outputs": [
    {
     "data": {
      "text/plain": [
       "0"
      ]
     },
     "execution_count": 10,
     "metadata": {},
     "output_type": "execute_result"
    }
   ],
   "source": [
    "def closestNumber(a, b, x):\n",
    "    # If \n",
    "    if a == 1:\n",
    "        return multiples_closest(1, x)\n",
    "    if b >= 0:\n",
    "        return multiples_closest(a**b, x)\n",
    "    return 0\n",
    "\n",
    "closestNumber(349, 1, 4)\n",
    "closestNumber(4, -2, 2)"
   ]
  },
  {
   "cell_type": "code",
   "execution_count": 13,
   "metadata": {},
   "outputs": [
    {
     "data": {
      "text/plain": [
       "1"
      ]
     },
     "execution_count": 13,
     "metadata": {},
     "output_type": "execute_result"
    }
   ],
   "source": [
    "closestNumber(1, 973594325, 1)"
   ]
  },
  {
   "cell_type": "code",
   "execution_count": 14,
   "metadata": {},
   "outputs": [
    {
     "data": {
      "text/plain": [
       "(0,)"
      ]
     },
     "execution_count": 14,
     "metadata": {},
     "output_type": "execute_result"
    }
   ],
   "source": [
    "closestNumber(861022531, 0, 10), "
   ]
  },
  {
   "cell_type": "code",
   "execution_count": null,
   "metadata": {},
   "outputs": [],
   "source": []
  }
 ],
 "metadata": {
  "kernelspec": {
   "display_name": "Python 3",
   "language": "python",
   "name": "python3"
  },
  "language_info": {
   "codemirror_mode": {
    "name": "ipython",
    "version": 3
   },
   "file_extension": ".py",
   "mimetype": "text/x-python",
   "name": "python",
   "nbconvert_exporter": "python",
   "pygments_lexer": "ipython3",
   "version": "3.10.13"
  }
 },
 "nbformat": 4,
 "nbformat_minor": 2
}
