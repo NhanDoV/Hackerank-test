{
 "cells": [
  {
   "cell_type": "markdown",
   "metadata": {},
   "source": [
    "# Introduction\n",
    "[Reference](https://www.hackerrank.com/challenges/best-divisor/problem?isFullScreen=true)\n",
    "\n",
    "- Kristen loves playing with and comparing numbers. She thinks that if she takes two different positive numbers, the one whose digits sum to a larger number is better than the other. If the sum of digits is equal for both numbers, then she thinks the smaller number is better. For example, Kristen thinks that $13$ is better than $31$ and that $12$ is better than $11$.\n",
    "\n",
    "- Given an integer, $n$, can you find the divisor of $n$ that Kristin will consider to be the best?\n",
    "\n",
    "###### Input Format\n",
    "- A single integer denoting $n$\n",
    "\n",
    "##### Output Format\n",
    "- Print an integer denoting the best divisor of $n$"
   ]
  },
  {
   "cell_type": "code",
   "execution_count": 1,
   "metadata": {},
   "outputs": [
    {
     "name": "stdout",
     "output_type": "stream",
     "text": [
      "For n = 6\n",
      "List of divisor and sum of its digits: {2: 2, 3: 3, 6: 6}\n",
      "Result: 6 ----------------------------------------------------------------------------------------------------\n",
      "For n = 12\n",
      "List of divisor and sum of its digits: {2: 2, 3: 3, 4: 4, 6: 6, 12: 3}\n",
      "Result: 6 ----------------------------------------------------------------------------------------------------\n",
      "For n = 239\n",
      "Result: 239 ----------------------------------------------------------------------------------------------------\n",
      "For n = 2048\n",
      "List of divisor and sum of its digits: {2: 2, 4: 4, 8: 8, 16: 7, 32: 5, 64: 10, 128: 11, 256: 13, 512: 8, 1024: 7, 2048: 14}\n",
      "Result: 2048 ----------------------------------------------------------------------------------------------------\n",
      "For n = 15535\n",
      "List of divisor and sum of its digits: {5: 5, 13: 4, 65: 11, 239: 14, 1195: 16, 3107: 11, 15535: 19}\n",
      "Result: 15535 ----------------------------------------------------------------------------------------------------\n",
      "For n = 87032\n",
      "List of divisor and sum of its digits: {2: 2, 4: 4, 8: 8, 11: 2, 22: 4, 23: 5, 43: 7, 44: 8, 46: 10, 86: 14, 88: 16, 92: 11, 172: 10, 184: 13, 253: 10, 344: 11, 473: 14, 506: 11, 946: 19, 989: 26, 1012: 4, 1892: 20, 1978: 25, 2024: 8, 3784: 22, 3956: 23, 7912: 19, 10879: 25, 21758: 23, 43516: 19, 87032: 20}\n",
      "Result: 989 ----------------------------------------------------------------------------------------------------\n"
     ]
    }
   ],
   "source": [
    "import math\n",
    "\n",
    "def getSum(n): \n",
    "    \n",
    "    sum = 0\n",
    "    for digit in str(n):  \n",
    "      sum += int(digit)       \n",
    "    return sum\n",
    "\n",
    "check_list = [6, 12, 239, 2048, 15535, 87032]\n",
    "for n in check_list:\n",
    "    print(f\"For n = {n}\")\n",
    "    ls = []\n",
    "    for k in range(2, n+1):\n",
    "        if n % k == 0:\n",
    "            #print(n, k)\n",
    "            ls.append(k)\n",
    "    if len(ls) == 0:\n",
    "        print(\"Result:\", 1, 100*\"-\")\n",
    "    elif len(ls) == 1:\n",
    "        print(\"Result:\", ls[0], 100*\"-\")\n",
    "    else:\n",
    "        dict_count = {}\n",
    "        for idx, val in enumerate(ls):\n",
    "            dict_count[val] = getSum(val)\n",
    "        print(f\"List of divisor and sum of its digits: {dict_count}\")\n",
    "        sum_digits = [getSum(num) for num in ls]\n",
    "        idxmax = sum_digits.index(max(sum_digits))\n",
    "        print(\"Result:\", ls[idxmax], 100*\"-\")"
   ]
  }
 ],
 "metadata": {
  "kernelspec": {
   "display_name": "Python 3",
   "language": "python",
   "name": "python3"
  },
  "language_info": {
   "codemirror_mode": {
    "name": "ipython",
    "version": 3
   },
   "file_extension": ".py",
   "mimetype": "text/x-python",
   "name": "python",
   "nbconvert_exporter": "python",
   "pygments_lexer": "ipython3",
   "version": "3.10.13"
  }
 },
 "nbformat": 4,
 "nbformat_minor": 2
}
