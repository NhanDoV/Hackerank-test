{
 "cells": [
  {
   "cell_type": "markdown",
   "metadata": {},
   "source": [
    "# Introduction\n",
    "[Reference](https://www.hackerrank.com/challenges/summing-the-n-series/problem?isFullScreen=true)\n",
    "- There is a sequence whose $n^{\\text{th}}$ term is $$T_n = n^2 - (n-1)^2$$\n",
    "- Evaluate the series\n",
    "$$ S_n = \\sum_{k=1}^n T_k = T_1 + T_2 + \\ldots + T_n $$\n",
    "Find $S_n$ mod $(10^9 + 7)$ (for truncating while $n$ is large enough).\n",
    "\n",
    "#### Example\n",
    "For $n=3$ Then the series is $(1 - 0) + (2^2 - 1) + (3^2 - 2^2) = 9$.\n",
    "\n",
    "#### Function Description\n",
    "Complete the `summingSeries function` with the following parameter(s):\n",
    "- int n: the inclusive limit of the range to sum\n",
    "\n",
    "#### Returns\n",
    "- int: the sum of the sequence, modulo \n",
    "\n",
    "#### Input Format\n",
    "- The first line of input contains $t$, the number of test cases.\n",
    "- Each test case consists of one line containing a single integer .\n",
    "\n",
    "#### Constraints\n",
    "- $1 \\leq t \\leq 10$\n",
    "- $1 \\leq n \\leq 10^{16}$\n"
   ]
  },
  {
   "cell_type": "code",
   "execution_count": 1,
   "metadata": {},
   "outputs": [
    {
     "name": "stdout",
     "output_type": "stream",
     "text": [
      "Summing of n(4)-series is 16\n",
      "Summing of n(102)-series is 10404\n",
      "Summing of n(1010)-series is 1020100\n",
      "Summing of n(121244)-series is 700107438\n",
      "Summing of n(288121244)-series is 663010586\n",
      "Summing of n(14230061991)-series is 240244131\n"
     ]
    }
   ],
   "source": [
    "def summingSeries(n):\n",
    "    # Write your code here\n",
    "    return n**2 %(10**9 + 7)\n",
    "\n",
    "check_list = [4, 102, 1010, 121244, 288121244, 14230061991]\n",
    "for num in check_list:\n",
    "    print(f\"Summing of n({num})-series is {summingSeries(num)}\")"
   ]
  },
  {
   "cell_type": "markdown",
   "metadata": {},
   "source": [
    "## 2. Summing of square number\n",
    "What happend if \n",
    "\n",
    "$$ S_n = \\sum_{k=1}^n k^2 = 1 + 2^2 + \\ldots + n^2 $$"
   ]
  },
  {
   "cell_type": "code",
   "execution_count": 2,
   "metadata": {},
   "outputs": [
    {
     "name": "stdout",
     "output_type": "stream",
     "text": [
      "Summing of n(4)-series is 30\n",
      "Summing of n(69)-series is 111895\n",
      "Summing of n(102)-series is 358955\n",
      "Summing of n(1010)-series is 343943885\n",
      "Summing of n(12121)-series is 673739710\n",
      "Summing of n(121244)-series is 291946821\n",
      "Summing of n(19912100)-series is 92152201\n"
     ]
    }
   ],
   "source": [
    "def squared_summing_loop(n):\n",
    "    Sum = 0\n",
    "    for k in range(1, n+1):\n",
    "        Sum += k**2\n",
    "    return Sum % (10**9 + 7)\n",
    "\n",
    "check_list = [4, 69, 102, 1010, 12121, 121244, 19912100]\n",
    "for num in check_list:\n",
    "    print(f\"Summing of n({num})-series is {squared_summing_loop(num)}\")"
   ]
  },
  {
   "cell_type": "markdown",
   "metadata": {},
   "source": [
    "##### Disadvantage\n",
    "When $n$ is large enough, we must apply another method, knowing that\n",
    "$$ S_n = \\sum_{k=1}^n k^2 = \\frac{n(n+1)(2n+1)}{6} $$"
   ]
  },
  {
   "cell_type": "code",
   "execution_count": 3,
   "metadata": {},
   "outputs": [
    {
     "name": "stdout",
     "output_type": "stream",
     "text": [
      "Summing of n(4)-series is 30\n",
      "Summing of n(102)-series is 358955\n",
      "Summing of n(12121)-series is 673739710\n",
      "Summing of n(121244)-series is 291946821\n",
      "Summing of n(19912100)-series is 92152201\n",
      "Summing of n(288121244)-series is 208291149\n"
     ]
    }
   ],
   "source": [
    "def squared_summing_generalized(n):\n",
    "    Sum = n*(n + 1)*(2*n + 1) // 6\n",
    "    return Sum % (10**9 + 7)\n",
    "\n",
    "check_list = [4, 102, 12121, 121244, 19912100, 288121244]\n",
    "for num in check_list:\n",
    "    print(f\"Summing of n({num})-series is {squared_summing_generalized(num)}\")"
   ]
  },
  {
   "cell_type": "markdown",
   "metadata": {},
   "source": [
    "## 3. Suumming of cube\n",
    "Likewise, what is the output of \n",
    "\n",
    "$$ S_n = \\sum_{k=1}^n k^3 = 1 + 2^3 + \\ldots + n^3 $$"
   ]
  },
  {
   "cell_type": "code",
   "execution_count": 4,
   "metadata": {},
   "outputs": [
    {
     "name": "stdout",
     "output_type": "stream",
     "text": [
      "Summing of n(4)-series is 100\n",
      "Summing of n(69)-series is 5832225\n",
      "Summing of n(102)-series is 27594009\n",
      "Summing of n(1010)-series is 666406205\n",
      "Summing of n(12121)-series is 167695027\n",
      "Summing of n(121244)-series is 915803931\n",
      "Summing of n(19912100)-series is 297101031\n"
     ]
    }
   ],
   "source": [
    "def cubed_sum_loop(n):\n",
    "    Sum = 0\n",
    "    for k in range(1, n+1):\n",
    "        Sum += k**3\n",
    "    return Sum % (10**9 + 7)\n",
    "\n",
    "check_list = [4, 69, 102, 1010, 12121, 121244, 19912100]\n",
    "for num in check_list:\n",
    "    print(f\"Summing of n({num})-series is {cubed_sum_loop(num)}\")"
   ]
  },
  {
   "cell_type": "markdown",
   "metadata": {},
   "source": [
    "Also, we have\n",
    "\n",
    "$$ S_n = \\sum_{k=1}^n k^3 = \\frac{n^2(n+1)^2}{4} $$"
   ]
  },
  {
   "cell_type": "code",
   "execution_count": 5,
   "metadata": {},
   "outputs": [
    {
     "name": "stdout",
     "output_type": "stream",
     "text": [
      "Summing of n(4)-series is 100\n",
      "Summing of n(102)-series is 27594009\n",
      "Summing of n(12121)-series is 167695027\n",
      "Summing of n(121244)-series is 915803931\n",
      "Summing of n(19912100)-series is 297101031\n",
      "Summing of n(288121244)-series is 926646666\n"
     ]
    }
   ],
   "source": [
    "def cubed_sum(n): return (n**2 * (n+1)**2 // 4)  % (10**9 + 7)\n",
    "check_list = [4, 102, 12121, 121244, 19912100, 288121244]\n",
    "for num in check_list:\n",
    "    print(f\"Summing of n({num})-series is {cubed_sum(num)}\")"
   ]
  },
  {
   "cell_type": "markdown",
   "metadata": {},
   "source": [
    "## 4. Summary\n",
    "- We have\n",
    "$$ \\sum_{k=1}^n k^3 = \\frac{n^2(n+1)^2}{4} = \\left( \\frac{n(n+1)}{2} \\right)^2 = \\left( \\sum_{k=1}^n k \\right)^2 $$\n",
    "\n",
    "So, what is the strategy to compute $ \\displaystyle S_{n, m} = \\sum_{k=1}^n k^m$, for instance $m = 4$??\n",
    "\n",
    "- Noting that for any degree $m$ in the left hand side we will obtain a polynomial with $m+1$ degrees in the right hand side\n",
    "\n",
    "$$ a_{m+1} n^{m+1} + a_m n^m + a_{m-1} n^{m-1} + \\ldots + a_0 $$\n",
    "\n",
    "- For $n=0$ then this is easy to get\n",
    "\n",
    "$$ S_{0, m} = \\sum_{k=0}^{m+1} a_k 0^k \\Leftrightarrow a_0 = 0$$\n",
    "\n",
    "- Hence, to determine $a_1, \\ldots, a_{m+1}$"
   ]
  },
  {
   "cell_type": "code",
   "execution_count": 6,
   "metadata": {},
   "outputs": [
    {
     "name": "stdout",
     "output_type": "stream",
     "text": [
      "S(1) = 1\n",
      "S(2) = 17\n",
      "S(3) = 98\n",
      "S(4) = 354\n",
      "S(5) = 979\n"
     ]
    }
   ],
   "source": [
    "m = 5\n",
    "for n in range(1, m+1):\n",
    "    S1 = 0\n",
    "    for k in range(1, n+1):\n",
    "        S1 += k**4\n",
    "    print(f\"S({n}) = {S1}\")"
   ]
  },
  {
   "cell_type": "markdown",
   "metadata": {},
   "source": [
    "Then, we have:\n",
    "- $S_1$ implies $a_1 + a_2 + a_3 + a_4 + a_5 = 1$\n",
    "- $S_2$ implies $a_1 * 2 + \\ldots + a_5 * 2^5= 17$ or $2a_1 + 4a_2 + 8a_3 + 16 a_4 + 32a_5= 17$\n",
    "- $S_3$ implies $3a_1 + 9a_2 + 27a_3 + 81a_4 + 243a_5= 98$\n",
    "- $S_4$ implies $4a_1 + 16a_2 + 64a_3 + 256a_4 + 1024a_5= 354$\n",
    "- $S_5$ implies $5a_1 + 25a_2 + 125a_3 + 625a_4 + 3125a_5= 979$\n",
    "\n",
    "and we obtain\n",
    "\n",
    "$$ \\left( \\begin{array}{cccc} 1 & 1 & 1 & 1 & 1\\\\ 2 & 4 & 8 & 16 & 32 \\\\ 3 & 9 & 27 & 81 & 243 \\\\ 4 & 16 & 64 & 256 & 1024 \\\\ 5 & 25 & 125 & 625 & 3125 \\end{array} \\right) \\left( \\begin{array}{c} a_1 \\\\ a_2 \\\\ a_3 \\\\ a_4 \\\\ a_5 \\end{array} \\right) = \\left( \\begin{array}{c} 1 \\\\ 17 \\\\ 98 \\\\ 354 \\\\ 979 \\end{array} \\right) $$"
   ]
  },
  {
   "cell_type": "code",
   "execution_count": 7,
   "metadata": {},
   "outputs": [
    {
     "name": "stdout",
     "output_type": "stream",
     "text": [
      "[[   1    1    1    1    1]\n",
      " [   2    4    8   16   32]\n",
      " [   3    9   27   81  243]\n",
      " [   4   16   64  256 1024]\n",
      " [   5   25  125  625 3125]] [1, 17, 98, 354, 979]\n",
      "coef: [-3.33333333e-02 -1.75925940e-12  3.33333333e-01  5.00000000e-01\n",
      "  2.00000000e-01]\n"
     ]
    },
    {
     "data": {
      "text/plain": [
       "722667"
      ]
     },
     "execution_count": 7,
     "metadata": {},
     "output_type": "execute_result"
    }
   ],
   "source": [
    "import numpy as np\n",
    "\n",
    "m = 4\n",
    "def sum_power_coef(m, is_print=False):\n",
    "    def sum_power(m):\n",
    "        S_list = []\n",
    "        for n in range(1, m+1):\n",
    "            S1 = 0\n",
    "            for k in range(1, n+1):\n",
    "                S1 += k**(m-1)\n",
    "            S_list.append(S1)\n",
    "        return S_list\n",
    "\n",
    "    A = np.array([[k**d for d in range(1, m+2)] for k in range(1, m+2)])\n",
    "    B = sum_power(m + 1)\n",
    "    if is_print:\n",
    "        print(A, B)\n",
    "    else:\n",
    "        pass\n",
    "    return np.matmul(np.linalg.inv(A), B) \n",
    "\n",
    "def sum_power_series(m, n, is_print=False):\n",
    "    coef_ = sum_power_coef(m, is_print)\n",
    "    if is_print:\n",
    "        print(\"coef:\", coef_)\n",
    "    else:\n",
    "        pass\n",
    "    Sum = 0\n",
    "    for k in range(0, m+1):\n",
    "        Sum += coef_[k] * n**(k+1) \n",
    "    return int(np.ceil(Sum)) % (10**9 + 7)\n",
    "\n",
    "sum_power_series(4, 20, True)"
   ]
  },
  {
   "cell_type": "code",
   "execution_count": 8,
   "metadata": {},
   "outputs": [
    {
     "name": "stdout",
     "output_type": "stream",
     "text": [
      "[[1 1]\n",
      " [2 4]] [1, 3]\n",
      "coef: [0.5 0.5]\n"
     ]
    },
    {
     "data": {
      "text/plain": [
       "210"
      ]
     },
     "execution_count": 8,
     "metadata": {},
     "output_type": "execute_result"
    }
   ],
   "source": [
    "sum_power_series(1, 20, True)"
   ]
  },
  {
   "cell_type": "markdown",
   "metadata": {},
   "source": [
    "### Verification!!"
   ]
  },
  {
   "cell_type": "code",
   "execution_count": 9,
   "metadata": {},
   "outputs": [
    {
     "name": "stdout",
     "output_type": "stream",
     "text": [
      "Summing of n(2)-series by func `cubed_sum` is 9 \n",
      "\t while generalized-func is 9\n",
      "Summing of n(4)-series by func `cubed_sum` is 100 \n",
      "\t while generalized-func is 100\n",
      "Summing of n(6)-series by func `cubed_sum` is 441 \n",
      "\t while generalized-func is 441\n",
      "Summing of n(10)-series by func `cubed_sum` is 3025 \n",
      "\t while generalized-func is 3025\n",
      "Summing of n(200)-series by func `cubed_sum` is 404010000 \n",
      "\t while generalized-func is 404010000\n",
      "Summing of n(5000)-series by func `cubed_sum` is 505155816 \n",
      "\t while generalized-func is 505155816\n"
     ]
    }
   ],
   "source": [
    "for num in [2,4,6,10,200,5000]:\n",
    "    print(f\"Summing of n({num})-series by func `cubed_sum` is {cubed_sum(num)} \\n\\t while generalized-func is {sum_power_series(3, num)}\")"
   ]
  }
 ],
 "metadata": {
  "kernelspec": {
   "display_name": "Python 3",
   "language": "python",
   "name": "python3"
  },
  "language_info": {
   "codemirror_mode": {
    "name": "ipython",
    "version": 3
   },
   "file_extension": ".py",
   "mimetype": "text/x-python",
   "name": "python",
   "nbconvert_exporter": "python",
   "pygments_lexer": "ipython3",
   "version": "3.10.13"
  }
 },
 "nbformat": 4,
 "nbformat_minor": 2
}
