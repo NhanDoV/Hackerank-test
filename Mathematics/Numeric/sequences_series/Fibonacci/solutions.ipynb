{
 "cells": [
  {
   "cell_type": "markdown",
   "metadata": {},
   "source": [
    "# Introduction\n",
    "[Reference](https://www.hackerrank.com/challenges/fibonacci-finding-easy/problem?isFullScreen=true)\n",
    "\n",
    "You're given three numbers: $a$, $b$, and $N$, and all you have to do is to find the number $F_N$ where\n",
    "- $F_0 = A$\n",
    "- $F_1 = B$\n",
    "- $F_N = F_{N-1} + F_{N-2}$\n",
    "\n",
    "#### Constraints\n",
    "Also, you're given the number of tests $T$ and our algorithm need to satisfies these conditions\n",
    "- $1 \\leq A,B,N \\leq 10^9$\n",
    "- $10 \\leq T \\leq 1000$\n",
    "\n",
    "### 1. Basic Fibonacci approach by induction"
   ]
  },
  {
   "cell_type": "code",
   "execution_count": 2,
   "metadata": {},
   "outputs": [
    {
     "name": "stdout",
     "output_type": "stream",
     "text": [
      "[3, 7, 10, 17, 27, 44, 71, 115]\n"
     ]
    }
   ],
   "source": [
    "from math import sqrt\n",
    "\n",
    "def basic_induction_fibo(a, b, n):\n",
    "    if n == 0:\n",
    "        return a\n",
    "    elif n == 1:\n",
    "        return b\n",
    "    else:\n",
    "        return basic_induction_fibo(a, b, n-1) + basic_induction_fibo(a, b, n-2)\n",
    "    \n",
    "print([basic_induction_fibo(3, 7, k) for k in range(8)])"
   ]
  },
  {
   "cell_type": "code",
   "execution_count": 3,
   "metadata": {},
   "outputs": [
    {
     "name": "stdout",
     "output_type": "stream",
     "text": [
      "3 : IsFibo\n",
      "5 : IsFibo\n",
      "7 : IsNotFibo\n",
      "8 : IsFibo\n",
      "9 : IsNotFibo\n",
      "16 : IsNotFibo\n"
     ]
    }
   ],
   "source": [
    "def isFibo(n):\n",
    "    phi = (1 + sqrt(5))/2\n",
    "    phi_m = (1 - sqrt(5))/2\n",
    "    res = lambda n: (phi**n - phi_m**n) / sqrt(5)\n",
    "\n",
    "    count = 0\n",
    "    for k in range(100):\n",
    "        if int(res(k)) == n:\n",
    "            count += 1\n",
    "    if count == 0:\n",
    "        return \"IsNotFibo\"\n",
    "    else:\n",
    "        return \"IsFibo\"\n",
    "\n",
    "check_list = [3, 5, 7, 8, 9, 16]\n",
    "for num in check_list:\n",
    "    print(f\"{num} : {isFibo(num)}\")"
   ]
  },
  {
   "cell_type": "markdown",
   "metadata": {},
   "source": [
    "##### Disadvantage\n",
    "\n",
    "What happened if you have a large-numbers??"
   ]
  },
  {
   "cell_type": "code",
   "execution_count": 4,
   "metadata": {},
   "outputs": [
    {
     "data": {
      "text/plain": [
       "1877014714575"
      ]
     },
     "execution_count": 4,
     "metadata": {},
     "output_type": "execute_result"
    }
   ],
   "source": [
    "basic_induction_fibo(123123, 456456, 33)"
   ]
  },
  {
   "cell_type": "markdown",
   "metadata": {},
   "source": [
    "### 2. Using golden-ratio\n",
    "When $a = b = 1$, we have\n",
    "$${\\displaystyle F_{n}={\\frac {1}{\\sqrt {5}}}\\left[{\\Big (}{\\frac {1+{\\sqrt {5}}}{2}}{\\Big )}^{n}-{\\Big (}{\\frac {1-{\\sqrt {5}}}{2}}{\\Big )}^{n}\\right]}$$\n",
    "\n",
    "Also, we observed that\n",
    "\n",
    "| n th | Standard Fibonacci | General Fibo sequence |\n",
    "|:-:|:-:|:-:|\n",
    "|0 |1 | `a` |\n",
    "|1 |1 | `b` |\n",
    "|2 |2 | `a + b`|\n",
    "|3 |3 | `a + 2b` |\n",
    "|4 |5 | `2a + 3b` |\n",
    "|5 |8 | `3a + 5b` |\n",
    "|6 |13 | `5a + 8b` |\n",
    "|7 |21 | `8a + 13b` |\n",
    "|8 |34 | `13a + 21b` |\n",
    "|9 |55 | `21a + 34b` |\n",
    "|..|..|..|\n",
    "|n|F(n)| `a*F(n-2) + b*F(n-1)`|"
   ]
  },
  {
   "cell_type": "code",
   "execution_count": 5,
   "metadata": {},
   "outputs": [
    {
     "name": "stdout",
     "output_type": "stream",
     "text": [
      "[3, 7, 10, 17, 27, 44, 71, 115]\n",
      "[3, 7, 10, 17, 27, 44, 71, 115]\n",
      "And for a=123123, b=456456, n=789, we have Fibo(n) is\n",
      " 185405966609566795431380389565318287946392238591171264295594384033467591688082277158577597818946037814941223025710495618048446347788346396669611353571240593032529454301184\n"
     ]
    }
   ],
   "source": [
    "def fibo_by_golden_rt(a, b , n):\n",
    "\n",
    "    def fibo_coef(n):\n",
    "        n = n+1\n",
    "        return int((phi**n - (1 - phi)**n) / sqrt(5))\n",
    "    phi = (1 + sqrt(5)) / 2\n",
    "    fa = fibo_coef(n-2)\n",
    "    fb = fibo_coef(n-1)\n",
    "    if n == 0:\n",
    "        return a\n",
    "    else:\n",
    "        return (a*fa + b*fb)\n",
    "\n",
    "print([basic_induction_fibo(3, 7, k) for k in range(8)])\n",
    "print([fibo_by_golden_rt(3, 7, _) for _ in range(8)])\n",
    "\n",
    "print(\"And for a=123123, b=456456, n=789, we have Fibo(n) is\\n\", fibo_by_golden_rt(123123, 456456, 789))"
   ]
  },
  {
   "cell_type": "markdown",
   "metadata": {},
   "source": [
    "#### Disadvantage of this method?\n",
    "Also, what happened if the number is large enough? "
   ]
  },
  {
   "cell_type": "code",
   "execution_count": 6,
   "metadata": {},
   "outputs": [
    {
     "ename": "OverflowError",
     "evalue": "(34, 'Numerical result out of range')",
     "output_type": "error",
     "traceback": [
      "\u001b[0;31m---------------------------------------------------------------------------\u001b[0m",
      "\u001b[0;31mOverflowError\u001b[0m                             Traceback (most recent call last)",
      "Cell \u001b[0;32mIn[6], line 1\u001b[0m\n\u001b[0;32m----> 1\u001b[0m \u001b[43mfibo_by_golden_rt\u001b[49m\u001b[43m(\u001b[49m\u001b[38;5;241;43m509618737\u001b[39;49m\u001b[43m,\u001b[49m\u001b[43m \u001b[49m\u001b[38;5;241;43m460201239\u001b[39;49m\u001b[43m,\u001b[49m\u001b[43m \u001b[49m\u001b[38;5;241;43m229176339\u001b[39;49m\u001b[43m)\u001b[49m\n",
      "Cell \u001b[0;32mIn[5], line 7\u001b[0m, in \u001b[0;36mfibo_by_golden_rt\u001b[0;34m(a, b, n)\u001b[0m\n\u001b[1;32m      5\u001b[0m     \u001b[38;5;28;01mreturn\u001b[39;00m \u001b[38;5;28mint\u001b[39m((phi\u001b[38;5;241m*\u001b[39m\u001b[38;5;241m*\u001b[39mn \u001b[38;5;241m-\u001b[39m (\u001b[38;5;241m1\u001b[39m \u001b[38;5;241m-\u001b[39m phi)\u001b[38;5;241m*\u001b[39m\u001b[38;5;241m*\u001b[39mn) \u001b[38;5;241m/\u001b[39m sqrt(\u001b[38;5;241m5\u001b[39m))\n\u001b[1;32m      6\u001b[0m phi \u001b[38;5;241m=\u001b[39m (\u001b[38;5;241m1\u001b[39m \u001b[38;5;241m+\u001b[39m sqrt(\u001b[38;5;241m5\u001b[39m)) \u001b[38;5;241m/\u001b[39m \u001b[38;5;241m2\u001b[39m\n\u001b[0;32m----> 7\u001b[0m fa \u001b[38;5;241m=\u001b[39m \u001b[43mfibo_coef\u001b[49m\u001b[43m(\u001b[49m\u001b[43mn\u001b[49m\u001b[38;5;241;43m-\u001b[39;49m\u001b[38;5;241;43m2\u001b[39;49m\u001b[43m)\u001b[49m\n\u001b[1;32m      8\u001b[0m fb \u001b[38;5;241m=\u001b[39m fibo_coef(n\u001b[38;5;241m-\u001b[39m\u001b[38;5;241m1\u001b[39m)\n\u001b[1;32m      9\u001b[0m \u001b[38;5;28;01mif\u001b[39;00m n \u001b[38;5;241m==\u001b[39m \u001b[38;5;241m0\u001b[39m:\n",
      "Cell \u001b[0;32mIn[5], line 5\u001b[0m, in \u001b[0;36mfibo_by_golden_rt.<locals>.fibo_coef\u001b[0;34m(n)\u001b[0m\n\u001b[1;32m      3\u001b[0m \u001b[38;5;28;01mdef\u001b[39;00m \u001b[38;5;21mfibo_coef\u001b[39m(n):\n\u001b[1;32m      4\u001b[0m     n \u001b[38;5;241m=\u001b[39m n\u001b[38;5;241m+\u001b[39m\u001b[38;5;241m1\u001b[39m\n\u001b[0;32m----> 5\u001b[0m     \u001b[38;5;28;01mreturn\u001b[39;00m \u001b[38;5;28mint\u001b[39m((\u001b[43mphi\u001b[49m\u001b[38;5;241;43m*\u001b[39;49m\u001b[38;5;241;43m*\u001b[39;49m\u001b[43mn\u001b[49m \u001b[38;5;241m-\u001b[39m (\u001b[38;5;241m1\u001b[39m \u001b[38;5;241m-\u001b[39m phi)\u001b[38;5;241m*\u001b[39m\u001b[38;5;241m*\u001b[39mn) \u001b[38;5;241m/\u001b[39m sqrt(\u001b[38;5;241m5\u001b[39m))\n",
      "\u001b[0;31mOverflowError\u001b[0m: (34, 'Numerical result out of range')"
     ]
    }
   ],
   "source": [
    "fibo_by_golden_rt(509618737, 460201239, 229176339)"
   ]
  },
  {
   "cell_type": "markdown",
   "metadata": {},
   "source": [
    "The `OverflowError` is caused by the float number $\\phi$ that defined while computing $F(n-2)$ can not represented in Python for $N$ large enough\n",
    "\n",
    "### 3. Using matrix-form + modulo for large number\n",
    "\n",
    "$$ {\\displaystyle {F_{k+2} \\choose F_{k+1}}={\\begin{pmatrix}1&1\\\\1&0\\end{pmatrix}}{F_{k+1} \\choose F_{k}}} $$"
   ]
  },
  {
   "cell_type": "code",
   "execution_count": null,
   "metadata": {},
   "outputs": [
    {
     "name": "stdout",
     "output_type": "stream",
     "text": [
      "945141656\n"
     ]
    }
   ],
   "source": [
    "mod = int(1e9 + 7)\n",
    "\n",
    "def mul(A, B):\n",
    "    \"\"\" Matrix multiplication between 2 matrix A and B \"\"\"\n",
    "    res = [[0, 0], [0, 0]]\n",
    "    for i in range(2):\n",
    "        for j in range(2):\n",
    "            for h in range(2):\n",
    "                res[i][j] = res[i][j] + A[i][h] * B[h][j]\n",
    "                res[i][j] %= mod\n",
    "    return res\n",
    "\n",
    "def fibo(a, b, n):\n",
    "    res = [[1, 0], [0, 1]]\n",
    "    x = [[0, 1], [1, 1]]\n",
    "\n",
    "    while n:\n",
    "        if (n % 2) == 1:\n",
    "            res = mul(res, x)\n",
    "        x = mul(x, x)\n",
    "        n //= 2\n",
    "    return (res[0][0] * a + res[0][1] * b) % mod\n",
    "\n",
    "a, b, n = 509618737, 460201239, 229176339    \n",
    "print( fibo(a, b, n) )"
   ]
  },
  {
   "cell_type": "code",
   "execution_count": null,
   "metadata": {},
   "outputs": [
    {
     "name": "stdout",
     "output_type": "stream",
     "text": [
      "For F0: 2 \t F1: 3 \t\t then F(1) := 3\n",
      "For F0: 9 \t F1: 1 \t\t then F(7) := 85\n",
      "For F0: 9 \t F1: 8 \t\t then F(3) := 25\n",
      "For F0: 2 \t F1: 4 \t\t then F(9) := 178\n",
      "For F0: 1 \t F1: 7 \t\t then F(2) := 8\n",
      "For F0: 1 \t F1: 8 \t\t then F(1) := 8\n",
      "For F0: 4 \t F1: 3 \t\t then F(1) := 3\n",
      "For F0: 3 \t F1: 7 \t\t then F(5) := 44\n"
     ]
    }
   ],
   "source": [
    "check_lists = [ \n",
    "                (2, 3, 1),\n",
    "                (9, 1, 7),\n",
    "                (9, 8, 3),\n",
    "                (2, 4, 9),\n",
    "                (1, 7, 2),\n",
    "                (1, 8, 1),\n",
    "                (4, 3, 1),\n",
    "                (3, 7, 5)\n",
    "                ]\n",
    "\n",
    "for test_case in check_lists:\n",
    "    a, b, n = test_case\n",
    "    print(f\"For F0: {a} \\t F1: {b} \\t\\t then F({n}) := {fibo(a, b, n)}\")"
   ]
  },
  {
   "cell_type": "code",
   "execution_count": null,
   "metadata": {},
   "outputs": [
    {
     "name": "stdout",
     "output_type": "stream",
     "text": [
      "For Fibo(0): 123123 \t Fibo(1): 456456 \t\t then Fibo(789) := 893340029\n",
      "For Fibo(0): 65880447 \t Fibo(1): 13069821 \t\t then Fibo(793896530) := 43375536\n",
      "For Fibo(0): 920881302 \t Fibo(1): 970435252 \t\t then Fibo(891913774) := 49437980\n",
      "For Fibo(0): 811504813 \t Fibo(1): 578511105 \t\t then Fibo(879804865) := 914989711\n",
      "For Fibo(0): 52239400 \t Fibo(1): 997333914 \t\t then Fibo(27011537) := 551574016\n",
      "For Fibo(0): 362554139 \t Fibo(1): 179703539 \t\t then Fibo(700690282) := 703639074\n",
      "For Fibo(0): 798212938 \t Fibo(1): 664795656 \t\t then Fibo(47975595) := 953582746\n",
      "For Fibo(0): 905159409 \t Fibo(1): 466169640 \t\t then Fibo(973854593) := 421520897\n",
      "For Fibo(0): 388863176 \t Fibo(1): 397784067 \t\t then Fibo(515732595) := 279855686\n",
      "For Fibo(0): 822879041 \t Fibo(1): 296015172 \t\t then Fibo(403426974) := 26213385\n",
      "For Fibo(0): 333749099 \t Fibo(1): 332748708 \t\t then Fibo(230988316) := 257166781\n",
      "For Fibo(0): 301528301 \t Fibo(1): 970005191 \t\t then Fibo(932369784) := 849051703\n",
      "For Fibo(0): 466204053 \t Fibo(1): 964295783 \t\t then Fibo(75594258) := 43456857\n",
      "For Fibo(0): 826692474 \t Fibo(1): 79629127 \t\t then Fibo(463898065) := 364821761\n",
      "For Fibo(0): 6112363 \t Fibo(1): 202545231 \t\t then Fibo(15391640) := 163085130\n",
      "For Fibo(0): 226237249 \t Fibo(1): 163941961 \t\t then Fibo(759159039) := 965616737\n",
      "For Fibo(0): 178448624 \t Fibo(1): 275620289 \t\t then Fibo(972495101) := 425392364\n"
     ]
    }
   ],
   "source": [
    "check_lists = [ \n",
    "                (123123, 456456, 789),\n",
    "                (65880447, 13069821, 793896530),\n",
    "                (920881302, 970435252, 891913774),\n",
    "                (811504813, 578511105, 879804865),\n",
    "                (52239400, 997333914, 27011537),\n",
    "                (362554139, 179703539, 700690282),\n",
    "                (798212938, 664795656, 47975595),\n",
    "                (905159409, 466169640, 973854593),\n",
    "                (388863176, 397784067, 515732595),\n",
    "                (822879041, 296015172, 403426974),\n",
    "                (333749099, 332748708, 230988316),\n",
    "                (301528301, 970005191, 932369784),\n",
    "                (466204053, 964295783, 75594258),\n",
    "                (826692474, 79629127, 463898065),\n",
    "                (6112363, 202545231, 15391640),\n",
    "                (226237249, 163941961, 759159039),\n",
    "                (178448624, 275620289, 972495101)\n",
    "                ]\n",
    "\n",
    "for test_case in check_lists:\n",
    "    a, b, n = test_case\n",
    "    print(f\"For Fibo(0): {a} \\t Fibo(1): {b} \\t\\t then Fibo({n}) := {fibo(a, b, n)}\")"
   ]
  }
 ],
 "metadata": {
  "kernelspec": {
   "display_name": "Python 3",
   "language": "python",
   "name": "python3"
  },
  "language_info": {
   "codemirror_mode": {
    "name": "ipython",
    "version": 3
   },
   "file_extension": ".py",
   "mimetype": "text/x-python",
   "name": "python",
   "nbconvert_exporter": "python",
   "pygments_lexer": "ipython3",
   "version": "3.10.13"
  }
 },
 "nbformat": 4,
 "nbformat_minor": 2
}
