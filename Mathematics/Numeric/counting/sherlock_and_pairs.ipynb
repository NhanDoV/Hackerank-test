{
 "cells": [
  {
   "cell_type": "markdown",
   "metadata": {},
   "source": [
    "# Introduction\n",
    "[Reference](https://www.hackerrank.com/challenges/sherlock-and-pairs/problem)\n",
    "- `Sherlock` is given an array of $N$ integers ($A_1,  \\ldots, A_{N-1}$  by `Watson`. \n",
    "- Now `Watson` asks `Sherlock` how many different pairs of indices $i$ and $j$ exist such that $i$ is not equal to $j$ but $A_i$ is equal to $A_j$.\n",
    "- That is, `Sherlock` has to count the total number of pairs of indices $(i, j)$ where $A_i = A_j$  `AND` $i \\neq j$.\n",
    "\n",
    "#### Input Format\n",
    "- The first line contains $T$, the number of test cases. $T$ test cases follow.\n",
    "- Each test case consists of two lines; the first line contains an integer $N$, the size of array, while the next line contains $N$ space separated integers.\n",
    "\n",
    "#### Output Format\n",
    "- For each test case, print the required answer on a different line."
   ]
  },
  {
   "cell_type": "code",
   "execution_count": 1,
   "metadata": {},
   "outputs": [
    {
     "name": "stdout",
     "output_type": "stream",
     "text": [
      "Numbers that having repeated-values:\n"
     ]
    },
    {
     "data": {
      "text/plain": [
       "0"
      ]
     },
     "execution_count": 1,
     "metadata": {},
     "output_type": "execute_result"
    }
   ],
   "source": [
    "import math\n",
    "\n",
    "from collections import Counter\n",
    "\n",
    "def solve(a):\n",
    "    # Write your code here\n",
    "    print(\"Numbers that having repeated-values:\")\n",
    "    for key, val in Counter(a).items():\n",
    "         if val > 1:\n",
    "              print(f\"\\t Number ({key}) appeared {val} times so having {val*(val - 1)} pairs of indices\")\n",
    "    return sum(val*(val-1) for key, val in Counter(a).items())\n",
    "\n",
    "solve([1,2,3])"
   ]
  },
  {
   "cell_type": "markdown",
   "metadata": {},
   "source": [
    "In the next test-case, `[1,2,1]` we have `A[0] = A[2] = 1`, the pairs of indices `(0,2)` and `(2,0)` satisfy the given condition."
   ]
  },
  {
   "cell_type": "code",
   "execution_count": 2,
   "metadata": {},
   "outputs": [
    {
     "name": "stdout",
     "output_type": "stream",
     "text": [
      "Numbers that having repeated-values:\n",
      "\t Number (1) appeared 2 times so having 2 pairs of indices\n"
     ]
    },
    {
     "data": {
      "text/plain": [
       "2"
      ]
     },
     "execution_count": 2,
     "metadata": {},
     "output_type": "execute_result"
    }
   ],
   "source": [
    "solve([1,2,1])"
   ]
  },
  {
   "cell_type": "markdown",
   "metadata": {},
   "source": [
    "Likewise, for `[1,2,3,1,1,3]`\n",
    "- `A[0] = A[3] = A[4] = 1` hence the pairs of indices of `1` is `(0,3),(3,0), (0,4),(4,0)` and `(3,4),(4,3)` \n",
    "- `A[2] = A[5] = 3` hence the pairs of indices of `2` is `(2,5),(5,2)`"
   ]
  },
  {
   "cell_type": "code",
   "execution_count": 3,
   "metadata": {},
   "outputs": [
    {
     "name": "stdout",
     "output_type": "stream",
     "text": [
      "Numbers that having repeated-values:\n",
      "\t Number (1) appeared 3 times so having 6 pairs of indices\n",
      "\t Number (3) appeared 2 times so having 2 pairs of indices\n"
     ]
    },
    {
     "data": {
      "text/plain": [
       "8"
      ]
     },
     "execution_count": 3,
     "metadata": {},
     "output_type": "execute_result"
    }
   ],
   "source": [
    "solve([1,2,3,1,1,3])"
   ]
  },
  {
   "cell_type": "code",
   "execution_count": 4,
   "metadata": {},
   "outputs": [
    {
     "name": "stdout",
     "output_type": "stream",
     "text": [
      "Numbers that having repeated-values:\n",
      "\t Number (1) appeared 4 times so having 12 pairs of indices\n",
      "\t Number (2) appeared 3 times so having 6 pairs of indices\n",
      "\t Number (3) appeared 2 times so having 2 pairs of indices\n"
     ]
    },
    {
     "data": {
      "text/plain": [
       "20"
      ]
     },
     "execution_count": 4,
     "metadata": {},
     "output_type": "execute_result"
    }
   ],
   "source": [
    "solve([1,2,3,1,1,3,1,2,2])"
   ]
  }
 ],
 "metadata": {
  "kernelspec": {
   "display_name": "Python 3",
   "language": "python",
   "name": "python3"
  },
  "language_info": {
   "codemirror_mode": {
    "name": "ipython",
    "version": 3
   },
   "file_extension": ".py",
   "mimetype": "text/x-python",
   "name": "python",
   "nbconvert_exporter": "python",
   "pygments_lexer": "ipython3",
   "version": "3.10.13"
  }
 },
 "nbformat": 4,
 "nbformat_minor": 2
}
