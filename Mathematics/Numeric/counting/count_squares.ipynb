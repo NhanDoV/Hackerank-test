{
 "cells": [
  {
   "cell_type": "markdown",
   "metadata": {},
   "source": [
    "# Introduction\n",
    "[Reference](https://www.hackerrank.com/challenges/sherlock-and-squares/problem)\n",
    "\n",
    "- `Watson` likes to challenge Sherlock's math ability. He will provide a starting and ending value that describe a range of integers, inclusive of the endpoints. Sherlock must determine the number of square integers within that range.\n",
    "\n",
    "#### Function Description\n",
    "- Complete the `squares` function, tt should return an integer representing the number of square integers in the inclusive range from $a$ to $b$.\n",
    "- `squares` has the following parameter(s):\n",
    "\n",
    "            int a: the lower range boundary\n",
    "            int b: the upper range boundary\n",
    "- Returns\n",
    "\n",
    "            int: the number of square integers in the range\n",
    "#### Input Format\n",
    "- The first line contains $q$, the number of test cases.\n",
    "- Each of the next $q$ lines contains two space-separated integers, $a$ and $b$, the starting and ending integers in the ranges."
   ]
  },
  {
   "cell_type": "code",
   "execution_count": 2,
   "metadata": {},
   "outputs": [
    {
     "name": "stdout",
     "output_type": "stream",
     "text": [
      "4\n",
      "9\n"
     ]
    },
    {
     "data": {
      "text/plain": [
       "2"
      ]
     },
     "execution_count": 2,
     "metadata": {},
     "output_type": "execute_result"
    }
   ],
   "source": [
    "import time\n",
    "from math import sqrt\n",
    "\n",
    "def squares(a, b, is_print=True):\n",
    "    # Write your code here\n",
    "    count = 0\n",
    "    for num in range(a, b+1):\n",
    "        if sqrt(num) == int(sqrt(num)):\n",
    "            if is_print:\n",
    "                print(num)\n",
    "            else:\n",
    "                pass\n",
    "            count += 1\n",
    "    return count\n",
    "squares(3, 9)"
   ]
  },
  {
   "cell_type": "markdown",
   "metadata": {},
   "source": [
    "### Disadvantage\n",
    "What happend if we met large numbers of $a$ and $b$?"
   ]
  },
  {
   "cell_type": "code",
   "execution_count": 3,
   "metadata": {},
   "outputs": [
    {
     "name": "stdout",
     "output_type": "stream",
     "text": [
      "CPU times: user 4.77 s, sys: 2.15 ms, total: 4.77 s\n",
      "Wall time: 4.87 s\n"
     ]
    },
    {
     "data": {
      "text/plain": [
       "4418"
      ]
     },
     "execution_count": 3,
     "metadata": {},
     "output_type": "execute_result"
    }
   ],
   "source": [
    "%time squares(2024, 19913029, False)"
   ]
  },
  {
   "cell_type": "markdown",
   "metadata": {},
   "source": [
    "### Tips\n",
    "\n",
    "- This is easy to know that for any interval $(0, n)$ then we will have at-most $\\sqrt{n}$ squares.numbers\n",
    "- Hence for any interval $(a, b)$ we will have $\\sqrt{b} - \\sqrt{a}$ squares numbers\n",
    "\n",
    "For example,\n",
    "- In $[1, 3]$ we have $\\text{int}(\\sqrt{3} - \\sqrt{1}) = \\text{int}(0.732)$ hence there is not any square numbers in this interval\n",
    "- In $[3, 9]$ we have $\\sqrt{9} - \\text{int}(\\sqrt{3}) = 2$"
   ]
  },
  {
   "cell_type": "code",
   "execution_count": 4,
   "metadata": {},
   "outputs": [
    {
     "data": {
      "text/plain": [
       "2.0"
      ]
     },
     "execution_count": 4,
     "metadata": {},
     "output_type": "execute_result"
    }
   ],
   "source": [
    "sqrt(9) - int(sqrt(3))"
   ]
  },
  {
   "cell_type": "code",
   "execution_count": 5,
   "metadata": {},
   "outputs": [
    {
     "data": {
      "text/plain": [
       "22"
      ]
     },
     "execution_count": 5,
     "metadata": {},
     "output_type": "execute_result"
    }
   ],
   "source": [
    "def squares(a, b):\n",
    "    if sqrt(a) == int(sqrt(a)):\n",
    "        return int(sqrt(b)) - int(sqrt(a)) + 1\n",
    "    else:\n",
    "        return int(sqrt(b)) - int(sqrt(a))\n",
    "\n",
    "squares(100, 1000)"
   ]
  },
  {
   "cell_type": "code",
   "execution_count": 6,
   "metadata": {},
   "outputs": [
    {
     "name": "stdout",
     "output_type": "stream",
     "text": [
      "From 3 to 9 we have 2 numbers\n",
      "From 4 to 10 we have 2 numbers\n",
      "From 35 to 70 we have 3 numbers\n",
      "From 23 to 99 we have 5 numbers\n",
      "From 12345678 to 2345678910 we have 44919 numbers\n",
      "Algorithm finished after 0.00 seconds\n"
     ]
    }
   ],
   "source": [
    "t0 = time.time()\n",
    "check_list = [(3, 9), (4, 10), (35, 70), (23, 99), (12345678, 2345678910)]\n",
    "for a, b in check_list:\n",
    "    print(f\"From {a} to {b} we have {squares(a, b)} numbers\")\n",
    "\n",
    "print(f\"Algorithm finished after {(time.time() - t0):.2f} seconds\")"
   ]
  }
 ],
 "metadata": {
  "kernelspec": {
   "display_name": "Python 3",
   "language": "python",
   "name": "python3"
  },
  "language_info": {
   "codemirror_mode": {
    "name": "ipython",
    "version": 3
   },
   "file_extension": ".py",
   "mimetype": "text/x-python",
   "name": "python",
   "nbconvert_exporter": "python",
   "pygments_lexer": "ipython3",
   "version": "3.10.13"
  }
 },
 "nbformat": 4,
 "nbformat_minor": 2
}
