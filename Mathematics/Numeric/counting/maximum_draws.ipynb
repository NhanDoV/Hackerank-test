{
 "cells": [
  {
   "cell_type": "markdown",
   "metadata": {},
   "source": [
    "# Introduction\n",
    "[Reference](https://www.hackerrank.com/challenges/maximum-draws/problem?isFullScreen=true)\n",
    "- A person is getting ready to leave and needs a pair of matching socks. If there are $n$ colors of socks in the drawer, how many socks need to be removed to be certain of having a matching pair?\n",
    "\n",
    "##### Example for $n=2$\n",
    "\n",
    "There are $2$ colors of socks in the drawer. If they remove $2$ socks, they may not match. The minimum number to insure success is $3$.\n",
    "\n",
    "##### Function Description\n",
    "Complete the `maximumDraws`` function, which has the following parameter:\n",
    "- int n: the number of colors of socks\n",
    "\n",
    "##### Returns\n",
    "- int: the minimum number of socks to remove to guarantee a matching pair.\n",
    "##### Input Format\n",
    "- The first line contains the number of test cases, $t$.\n",
    "- Each of the following  lines contains an integer $n$."
   ]
  },
  {
   "cell_type": "code",
   "execution_count": null,
   "metadata": {},
   "outputs": [],
   "source": [
    "import math\n",
    "\n",
    "def maximumDraws(n):\n",
    "    # Write your code here\n",
    "    return n+1"
   ]
  },
  {
   "cell_type": "markdown",
   "metadata": {},
   "source": [
    "### Explanation (application from Pigeon's hole Principle)\n",
    "For $n$ pigeons (or any other object) are placed in $m$ holes where $n > m$ then *at least one hole must contain more than one pigeon*.\n",
    "\n",
    "- Hence, If there are more holes than pigeons ($n< m$), some of the holes are empty.\n",
    "\n",
    "- So for any $n$ colors of socks in the drawer, the maximum number of socks need to be removed to be certain of having a matching pair must be $n + 1$"
   ]
  }
 ],
 "metadata": {
  "language_info": {
   "name": "python"
  }
 },
 "nbformat": 4,
 "nbformat_minor": 2
}
