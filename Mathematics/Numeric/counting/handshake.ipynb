{
 "cells": [
  {
   "cell_type": "markdown",
   "metadata": {},
   "source": [
    "### Introduction\n",
    "[Reference](https://www.hackerrank.com/challenges/handshake/problem?isFullScreen=true)\n",
    "At the annual meeting of Board of Directors of Acme Inc. If everyone attending shakes hands exactly one time with every other attendee, how many handshakes are there?\n",
    "\n",
    "#### Example\n",
    "There are $3$ attendees, $p_1$, $p_2$ and $p_3$. $p_1$ shakes hands with $p_2$ and $p_3$, and $p_2$ shakes hands with $p_3$. Now they have all shaken hands after $3$ handshakes.\n",
    "\n",
    "#### Function Description\n",
    "Complete the `handshakes`` function with the following parameter:\n",
    "- int n: the number of attendees\n",
    "\n",
    "###### Returns\n",
    "- int: the number of handshakes\n",
    "###### Input Format\n",
    "- The first line contains the number of test cases $t$.\n",
    "- Each of the following $t$ lines contains an integer, $n$."
   ]
  },
  {
   "cell_type": "code",
   "execution_count": 1,
   "metadata": {},
   "outputs": [],
   "source": [
    "import math\n",
    "\n",
    "def handshake(n):\n",
    "    # Write your code here\n",
    "    if n <= 1:\n",
    "        return 0\n",
    "    elif n == 2:\n",
    "        return 1\n",
    "    else:\n",
    "        return n*(n-1)//2"
   ]
  },
  {
   "cell_type": "markdown",
   "metadata": {},
   "source": [
    "#### Explanation\n",
    "\n",
    "- Case 1 : The lonely board member shakes no hands, hence 0.\n",
    "- Case 2 : There are 2 board members, so 1 handshake takes place"
   ]
  }
 ],
 "metadata": {
  "kernelspec": {
   "display_name": "Python 3",
   "language": "python",
   "name": "python3"
  },
  "language_info": {
   "codemirror_mode": {
    "name": "ipython",
    "version": 3
   },
   "file_extension": ".py",
   "mimetype": "text/x-python",
   "name": "python",
   "nbconvert_exporter": "python",
   "pygments_lexer": "ipython3",
   "version": "3.10.13"
  }
 },
 "nbformat": 4,
 "nbformat_minor": 2
}
