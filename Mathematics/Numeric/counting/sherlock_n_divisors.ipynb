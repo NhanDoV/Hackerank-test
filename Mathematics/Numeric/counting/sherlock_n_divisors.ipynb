{
 "cells": [
  {
   "cell_type": "markdown",
   "metadata": {},
   "source": [
    "# Introduction\n",
    "[Reference](https://www.hackerrank.com/challenges/sherlock-and-divisors/problem?isFullScreen=true)\n",
    "The simpliest idea is considering only on the even divisors which less than a-half values of the number\n",
    "- if itself is an even number, we will add itself (add 1) to the number of divisors in the counted-list\n",
    "- if itself is an odd, we will stop the algorithm because there are not any even divisors from an odd.\n",
    "\n",
    "For example\n",
    "- For $n = 12$, then we will have a list (which the initial value is $12$) then count the other divisors which are less than $6$ (which be $2,3,6$) \n",
    "- For $n = 8$, then we will have a list (which the initial value is $8$) then count the other divisors which are less than $4$ (which be $2,4$)\n",
    "- For $n = 18$, then we will have a list (which the initial value is $18$) then count the other divisors which are less than $9$ (which be $2,6$)\n",
    "- For $n = 11$ and hence it is an odd so there are $0$ even divisors\n",
    "\n",
    "Hence we need $\\frac{n}{4}$ times to obtain the final results so `time auxilary:` $O(n)$"
   ]
  },
  {
   "cell_type": "code",
   "execution_count": 1,
   "metadata": {},
   "outputs": [
    {
     "name": "stdout",
     "output_type": "stream",
     "text": [
      "2 has 1 even divisors (they are [2]), algorithm finished after 0.000009 seconds\n",
      "3 is an odd number and hence it has 0 even divisors, algorithm immediately finished after 0.000004 seconds\n",
      "5 is an odd number and hence it has 0 even divisors, algorithm immediately finished after 0.000002 seconds\n",
      "6 has 2 even divisors (they are [2, 6]), algorithm finished after 0.000007 seconds\n",
      "7 is an odd number and hence it has 0 even divisors, algorithm immediately finished after 0.000002 seconds\n",
      "8 has 3 even divisors (they are [2, 4, 8]), algorithm finished after 0.000006 seconds\n",
      "12 has 4 even divisors (they are [2, 4, 6, 12]), algorithm finished after 0.000005 seconds\n",
      "16 has 4 even divisors (they are [2, 4, 8, 16]), algorithm finished after 0.000005 seconds\n",
      "18 has 3 even divisors (they are [2, 6, 18]), algorithm finished after 0.000004 seconds\n",
      "20 has 4 even divisors (they are [2, 4, 10, 20]), algorithm finished after 0.000004 seconds\n",
      "24 has 6 even divisors (they are [2, 4, 6, 8, 12, 24]), algorithm finished after 0.000005 seconds\n",
      "28 has 4 even divisors (they are [2, 4, 14, 28]), algorithm finished after 0.000005 seconds\n",
      "210 has 8 even divisors (they are [2, 6, 10, 14, 30, 42, 70, 210]), algorithm finished after 0.000008 seconds\n",
      "1024 has 10 even divisors (they are [2, 4, 8, 16, 32, 64, 128, 256, 512, 1024]), algorithm finished after 0.000024 seconds\n",
      "8064 has 42 even divisors (they are [2, 4, 6, 8, 12, 14, 16, 18, 24, 28, 32, 36, 42, 48, 56, 64, 72, 84, 96, 112, 126, 128, 144, 168, 192, 224, 252, 288, 336, 384, 448, 504, 576, 672, 896, 1008, 1152, 1344, 2016, 2688, 4032, 8064]), algorithm finished after 0.000191 seconds\n",
      "510510 has 64 even divisors (they are [2, 6, 10, 14, 22, 26, 30, 34, 42, 66, 70, 78, 102, 110, 130, 154, 170, 182, 210, 238, 286, 330, 374, 390, 442, 462, 510, 546, 714, 770, 858, 910, 1122, 1190, 1326, 1430, 1870, 2002, 2210, 2310, 2618, 2730, 3094, 3570, 4290, 4862, 5610, 6006, 6630, 7854, 9282, 10010, 13090, 14586, 15470, 24310, 30030, 34034, 39270, 46410, 72930, 102102, 170170, 510510]), algorithm finished after 0.006611 seconds\n",
      "Total time : 0.008008 seconds\n"
     ]
    }
   ],
   "source": [
    "from math import sqrt\n",
    "import time\n",
    "\n",
    "def count_even_div(n):\n",
    "  if n % 2:\n",
    "    return False, 0, []\n",
    "  else:\n",
    "    ls = [n]\n",
    "    for num in range(2, 1 + n//2, 2):\n",
    "      if n % num == 0:\n",
    "        ls.append(num)\n",
    "    return True, len(ls), sorted(ls)\n",
    "\n",
    "init_time = time.time()\n",
    "for n in [2, 3, 5, 6, 7, 8, 12, 16, 18, 20, 24, 28, 210, 1024, 8064, 510510]:\n",
    "  t0 = time.time()\n",
    "  is_satisfied, n_even, ls = count_even_div(n)\n",
    "  if is_satisfied:\n",
    "    print(f\"{n} has {n_even} even divisors (they are {ls}), algorithm finished after {(time.time() - t0):.6f} seconds\")\n",
    "  else:\n",
    "      print(f\"{n} is an odd number and hence it has {n_even} even divisors, algorithm immediately finished after {(time.time() - t0):4f} seconds\")\n",
    "\n",
    "print(f\"Total time : {(time.time() - init_time):1f} seconds\")"
   ]
  },
  {
   "cell_type": "markdown",
   "metadata": {},
   "source": [
    "## Disadvantage\n",
    "What happend if we consider the large-numbers, e.g, `158260522`, we need to optimize this algorithm better"
   ]
  },
  {
   "cell_type": "code",
   "execution_count": 2,
   "metadata": {},
   "outputs": [
    {
     "name": "stdout",
     "output_type": "stream",
     "text": [
      "20481024 has 80 even divisors and the algorithm finished after 0.254180 seconds\n",
      "125256256 has 12 even divisors and the algorithm finished after 1.707706 seconds\n",
      "158260522 has 8 even divisors and the algorithm finished after 2.113391 seconds\n",
      "861648772 has 16 even divisors and the algorithm finished after 10.533352 seconds\n",
      "731963982 has 8 even divisors and the algorithm finished after 8.961263 seconds\n",
      "158260522 has 8 even divisors and the algorithm finished after 1.884132 seconds\n",
      "877914575 has 0 even divisors and the algorithm finished after 0.000003 seconds\n",
      "====================================================================================================\n",
      "Total time for large-numbers: 25.454831 seconds\n"
     ]
    }
   ],
   "source": [
    "check_list_large_number = [20481024, 125256256, 158260522,861648772, 731963982, 158260522, 877914575]\n",
    "init_time = time.time()\n",
    "for n in check_list_large_number:\n",
    "  t0 = time.time()\n",
    "  is_satisfied, n_even, ls = count_even_div(n)\n",
    "  print(f\"{n} has {n_even} even divisors and the algorithm finished after {(time.time() - t0):.6f} seconds\")\n",
    "print(f\"{100*'='}\\nTotal time for large-numbers: {(time.time() - init_time):1f} seconds\")"
   ]
  },
  {
   "cell_type": "markdown",
   "metadata": {},
   "source": [
    "## Solution\n",
    "Instead of using $\\text{range}\\left(2, \\dfrac{n}{2}, 2 \\right)$ to count divisors, we will consider $\\text{range}\\left(1, 1 + \\text{int}(\\sqrt{n}) \\right)$ as a better alternative. For example,\n",
    "- If $n = 18$, we will consider the divisor on $\\lbrace 1,2,3 \\rbrace$ instead of $\\lbrace 2,4,6,8 \\rbrace$\n",
    "- If $n = 100$, we will consider the divisor on $\\lbrace 1,2,\\ldots,10 \\rbrace$ instead of $\\lbrace 2,4,\\ldots,50 \\rbrace$\n",
    "- ...\n",
    "- If $n = 1024$, we will consider the divisor on $\\lbrace 1,2,\\ldots,32 \\rbrace$ instead of $\\lbrace 2,4,\\ldots,512 \\rbrace$\n",
    "\n",
    "Next, how to count all the even-divisors in the range of $\\text{range}\\left(1, 1 + \\text{int}(\\sqrt{n}) \\right)$, we know that\n",
    "\n",
    "$$ \\forall n \\in \\mathbb{N}, \\exists \\left( a_1, \\ldots, a_k \\right), (m_1, \\ldots, m_k) \\in \\mathbb{N}^{k} \\text { such that } n = \\prod_{j=1}^k a_j^{m_j}$$\n",
    "\n",
    "For example $$8 = 2^3 3^0, \\qquad 12 = 2^2 3^1, \\qquad 18 = 2^1 3^2, \\qquad 210 = 2^2 3^1 5^1 7^1$$\n",
    "\n",
    "-----------\n",
    "##### Schema\n",
    "            \n",
    "                 for num in range(1, 1 + [sqrt(n)] ):             # where [x] is integer term of x                 \n",
    "                     if (n % num) & (num % 2) == 0:\n",
    "                        => num is even-divisor of x \n",
    "                     if ((n / num) % 2) & (n / num) != num :\n",
    "                        => the quotient (n / num) is also a even number and n must be less than num^2"
   ]
  },
  {
   "cell_type": "code",
   "execution_count": 3,
   "metadata": {},
   "outputs": [
    {
     "name": "stdout",
     "output_type": "stream",
     "text": [
      "the quotient 12/1=12 is also an even hence 12 is also an even divisors of 12\n",
      "2 is an even divisor of 12\n",
      "the quotient 12/2=6 is also an even hence 6 is also an even divisors of 12\n",
      "the quotient 12/3=4 is also an even hence 4 is also an even divisors of 12\n",
      "Therefore we have 4 even-divisors of 12\n"
     ]
    }
   ],
   "source": [
    "def divisors_large_num(n, is_print=False):\n",
    "  # Write your code here\n",
    "  cnt = 0\n",
    "  if n % 2 == 1:\n",
    "    return 0\n",
    "  else:\n",
    "    for num in range(1, int(1+sqrt(n))):\n",
    "      if (n % num == 0) & (num % 2 == 0):\n",
    "        if is_print:\n",
    "          print(f\"{num} is an even divisor of {n}\")\n",
    "        cnt += 1 \n",
    "      if (n / num) % 2 == 0 and n / num != num:\n",
    "        if is_print:\n",
    "          print(f\"the quotient {n}/{num}={n//num} is also an even hence {n//num} is also an even divisors of {n}\")\n",
    "        cnt += 1\n",
    "    return cnt\n",
    "N = 12\n",
    "res = divisors_large_num(N, True)\n",
    "print(f\"Therefore we have {res} even-divisors of {N}\")"
   ]
  },
  {
   "cell_type": "code",
   "execution_count": 4,
   "metadata": {},
   "outputs": [
    {
     "name": "stdout",
     "output_type": "stream",
     "text": [
      "the quotient 8/1=8 is also an even hence 8 is also an even divisors of 8\n",
      "2 is an even divisor of 8\n",
      "the quotient 8/2=4 is also an even hence 4 is also an even divisors of 8\n",
      "Therefore we have 3 even-divisors of 8\n"
     ]
    }
   ],
   "source": [
    "N = 8\n",
    "res = divisors_large_num(N, True)\n",
    "print(f\"Therefore we have {res} even-divisors of {N}\")"
   ]
  },
  {
   "cell_type": "code",
   "execution_count": 5,
   "metadata": {},
   "outputs": [
    {
     "name": "stdout",
     "output_type": "stream",
     "text": [
      "the quotient 28/1=28 is also an even hence 28 is also an even divisors of 28\n",
      "2 is an even divisor of 28\n",
      "the quotient 28/2=14 is also an even hence 14 is also an even divisors of 28\n",
      "4 is an even divisor of 28\n",
      "Therefore we have 4 even-divisors of 28\n"
     ]
    }
   ],
   "source": [
    "N = 28\n",
    "res = divisors_large_num(N, True)\n",
    "print(f\"Therefore we have {res} even-divisors of {N}\")"
   ]
  },
  {
   "cell_type": "code",
   "execution_count": 6,
   "metadata": {},
   "outputs": [
    {
     "name": "stdout",
     "output_type": "stream",
     "text": [
      "the quotient 120/1=120 is also an even hence 120 is also an even divisors of 120\n",
      "2 is an even divisor of 120\n",
      "the quotient 120/2=60 is also an even hence 60 is also an even divisors of 120\n",
      "the quotient 120/3=40 is also an even hence 40 is also an even divisors of 120\n",
      "4 is an even divisor of 120\n",
      "the quotient 120/4=30 is also an even hence 30 is also an even divisors of 120\n",
      "the quotient 120/5=24 is also an even hence 24 is also an even divisors of 120\n",
      "6 is an even divisor of 120\n",
      "the quotient 120/6=20 is also an even hence 20 is also an even divisors of 120\n",
      "8 is an even divisor of 120\n",
      "10 is an even divisor of 120\n",
      "the quotient 120/10=12 is also an even hence 12 is also an even divisors of 120\n",
      "Therefore we have 12 even-divisors of 120\n"
     ]
    }
   ],
   "source": [
    "N = 120\n",
    "res = divisors_large_num(N, True)\n",
    "print(f\"Therefore we have {res} even-divisors of {N}\")"
   ]
  },
  {
   "cell_type": "markdown",
   "metadata": {},
   "source": [
    "## Speed verification\n",
    "Of course in this algorithm, `time auxilary` = $O(\\sqrt{n})$"
   ]
  },
  {
   "cell_type": "code",
   "execution_count": 7,
   "metadata": {},
   "outputs": [
    {
     "name": "stdout",
     "output_type": "stream",
     "text": [
      "20481024 has 80 even divisors and the algorithm finished after 0.000909 seconds\n",
      "125256256 has 12 even divisors and the algorithm finished after 0.002239 seconds\n",
      "158260522 has 8 even divisors and the algorithm finished after 0.004380 seconds\n",
      "861648772 has 16 even divisors and the algorithm finished after 0.007031 seconds\n",
      "731963982 has 8 even divisors and the algorithm finished after 0.009271 seconds\n",
      "158260522 has 8 even divisors and the algorithm finished after 0.003055 seconds\n",
      "877914575 has 0 even divisors and the algorithm finished after 0.000001 seconds\n",
      "====================================================================================================\n",
      "Total time for large-numbers: 0.027291 seconds\n"
     ]
    }
   ],
   "source": [
    "init_time = time.time()\n",
    "for n in check_list_large_number:\n",
    "  t0 = time.time()\n",
    "  print(f\"{n} has {divisors_large_num(n, False)} even divisors and the algorithm finished after {(time.time() - t0):.6f} seconds\")  \n",
    "print(f\"{100*'='}\\nTotal time for large-numbers: {(time.time() - init_time):1f} seconds\")"
   ]
  }
 ],
 "metadata": {
  "kernelspec": {
   "display_name": "Python 3",
   "language": "python",
   "name": "python3"
  },
  "language_info": {
   "codemirror_mode": {
    "name": "ipython",
    "version": 3
   },
   "file_extension": ".py",
   "mimetype": "text/x-python",
   "name": "python",
   "nbconvert_exporter": "python",
   "pygments_lexer": "ipython3",
   "version": "3.10.13"
  }
 },
 "nbformat": 4,
 "nbformat_minor": 2
}
