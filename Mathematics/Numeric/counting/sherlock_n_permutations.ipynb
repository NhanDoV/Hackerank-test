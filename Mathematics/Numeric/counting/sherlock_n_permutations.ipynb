{
 "cells": [
  {
   "cell_type": "markdown",
   "metadata": {},
   "source": [
    "# Introduction\n",
    "[Reference](https://www.hackerrank.com/challenges/sherlock-and-permutations/problem?isFullScreen=true)\n",
    "\n",
    "- Watson asks Sherlock: `Given a string` $S$ of $N$ `0's` and $M$ `1's`, `how many unique permutations of this string start with` $1$ `?`\n",
    "- Print out the answer modulo (109+7).\n",
    "\n",
    "##### Input Format\n",
    "- First line contains $T$, the number of test cases.\n",
    "- Each test case consists of $N$ and $M$ separated by a space.\n",
    "\n",
    "##### Output Format\n",
    "- $2 \\leq T \\leq 200$\n",
    "- $1 \\leq N, M \\leq 1000$"
   ]
  },
  {
   "cell_type": "code",
   "execution_count": 1,
   "metadata": {},
   "outputs": [
    {
     "name": "stdout",
     "output_type": "stream",
     "text": [
      "{'10', '01'}\n",
      "{'010', '001', '100'}\n",
      "{'011', '110', '101'}\n",
      "{'00011', '00101', '01010', '00110', '01100', '10010', '11000', '01001', '10100', '10001'}\n",
      "{'11010', '01011', '11001', '11100', '00111', '01101', '01110', '10011', '10101', '10110'}\n",
      "{'001101', '100110', '001011', '011010', '010101', '110100', '111000', '101001', '110010', '011001', '100011', '010011', '001110', '110001', '000111', '101100', '011100', '010110', '101010', '100101'}\n"
     ]
    }
   ],
   "source": [
    "import math\n",
    "from itertools import permutations \n",
    "\n",
    "def factorial(n):\n",
    "    if n == 0:\n",
    "        return 1\n",
    "    else:\n",
    "        return (n*factorial(n-1))\n",
    "def all_perm(n, m):\n",
    "    return factorial(n+m) / (factorial(m) * factorial(n))\n",
    "\n",
    "def generate_series(n, m):\n",
    "    ls = n*[0] + m*[1]\n",
    "    my_perm = list(permutations(ls))\n",
    "    my_perm = [''.join([str(s) for s in elm]) for elm in my_perm]\n",
    "    return set(my_perm)\n",
    "\n",
    "for n, m in [(1, 1), (2, 1), (1, 2), (3, 2), (2, 3), (3, 3)]:\n",
    "    print(generate_series(n, m))"
   ]
  },
  {
   "cell_type": "markdown",
   "metadata": {},
   "source": [
    "This is easy to check that the total permutations of $(n ,m)$ position for $(0, 1)$ in a series is $$ f(n,m) := \\frac{(n+m)!}{n! \\times m!} $$\n",
    "For instance,\n",
    "- $m=n=1$ then we have `10` and `01`\n",
    "- $m=2, n = 1$ then we have `110, 101` and `011`\n",
    "- $m=1, n = 2$ then we have `100` and `010, 001`\n",
    "- $m=2, n = 2$ then we have `1100, 1010, 1001` and `0110, 0101, 0011`\n",
    "- $m=3, n = 2$ then we have `11100, 11010, 11001, 10110, 10101, 10011` and `01110, 01101, 01011, 00111`\n",
    "- $m=2, n = 3$ then we have `11000, 10100, 10010, 10001` and `01100, 01010, 01001, 00110, 00101, 00011`\n",
    "\n",
    "Now, we define 2 functions to measure the number of series which started by $1$ among ($n$ digits of $0$ and $m$ digits of $1$)"
   ]
  },
  {
   "cell_type": "code",
   "execution_count": 5,
   "metadata": {},
   "outputs": [
    {
     "name": "stdout",
     "output_type": "stream",
     "text": [
      "For n=1, m=1 we have 1 elements which started by 1\n",
      "For n=2, m=1 we have 1 elements which started by 1\n",
      "For n=1, m=2 we have 2 elements which started by 1\n",
      "For n=3, m=2 we have 4 elements which started by 1\n",
      "For n=2, m=3 we have 6 elements which started by 1\n",
      "For n=3, m=3 we have 10 elements which started by 1\n",
      "For n=2, m=9 we have 45 elements which started by 1\n",
      "For n=9, m=2 we have 10 elements which started by 1\n"
     ]
    }
   ],
   "source": [
    "def solve(m, n):\n",
    "    return int(factorial(n+m-1) / (factorial(n-1)*factorial(m) )) % (10**9 + 7)\n",
    "\n",
    "def series_started_by1(m, n):\n",
    "\tn -= 1\n",
    "\tres = 1\n",
    "\tfor i in range(n + 1, n + m + 1):\n",
    "\t\tres = res * i // (i - n)\n",
    "\treturn res % (10**9 + 7)\n",
    "\n",
    "for n, m in [(1, 1), (2, 1), (1, 2), (3, 2), (2, 3), (3, 3), (2, 9), (9, 2)]:\n",
    "    print(f\"For n={n}, m={m} we have {series_started_by1(n, m)} elements which started by 1\")"
   ]
  },
  {
   "cell_type": "markdown",
   "metadata": {},
   "source": [
    "The true formulation must be\n",
    "\n",
    "$$ F(n, m) = \\dfrac{(n+m-1)!}{(n-1)! \\times m!} $$\n",
    "\n",
    "The limitation of `factorial` $n!$ won't be possible to store these many digits even if we use long int, so we can re-write the equation above like this\n",
    "\n",
    "$$ \\displaystyle F(n, m) = \\prod_{k=n+1}^{n+m+1} \\left \\lfloor \\frac{k}{k - n} \\right \\rfloor  $$\n",
    "\n",
    "Comparison\n",
    "- Method 1 (`solve`) needs $(n+m-1) + (n-1) + m$ multiplications for 3 `factorials`\n",
    "- Method 2 (`series_started_by1`) limit on range from $n+1$ to $n+m-1$\n",
    "\n",
    "For $n, m$ large enough then method 1 will not be a good choice to solve"
   ]
  },
  {
   "cell_type": "code",
   "execution_count": 6,
   "metadata": {},
   "outputs": [
    {
     "name": "stdout",
     "output_type": "stream",
     "text": [
      "For n:1 \t m:1 \t..\t method1: 1 \t , method2: 1\n",
      "For n:2 \t m:1 \t..\t method1: 1 \t , method2: 1\n",
      "For n:1 \t m:2 \t..\t method1: 2 \t , method2: 2\n",
      "For n:3 \t m:3 \t..\t method1: 10 \t , method2: 10\n",
      "For n:4 \t m:6 \t..\t method1: 126 \t , method2: 126\n",
      "For n:4 \t m:4 \t..\t method1: 35 \t , method2: 35\n",
      "For n:2 \t m:4 \t..\t method1: 10 \t , method2: 10\n",
      "For n:4 \t m:2 \t..\t method1: 5 \t , method2: 5\n",
      "For n:3 \t m:2 \t..\t method1: 4 \t , method2: 4\n",
      "For n:2 \t m:3 \t..\t method1: 6 \t , method2: 6\n",
      "For n:7 \t m:8 \t..\t method1: 3432 \t , method2: 3432\n",
      "For n:8 \t m:7 \t..\t method1: 3003 \t , method2: 3003\n",
      "For n:7 \t m:5 \t..\t method1: 330 \t , method2: 330\n",
      "For n:5 \t m:7 \t..\t method1: 462 \t , method2: 462\n",
      "For n:3 \t m:3 \t..\t method1: 10 \t , method2: 10\n",
      "For n:2 \t m:9 \t..\t method1: 45 \t , method2: 45\n",
      "For n:8 \t m:3 \t..\t method1: 45 \t , method2: 45\n",
      "For n:3 \t m:6 \t..\t method1: 56 \t , method2: 56\n",
      "For n:6 \t m:3 \t..\t method1: 28 \t , method2: 28\n",
      "For n:6 \t m:9 \t..\t method1: 3003 \t , method2: 3003\n",
      "For n:9 \t m:2 \t..\t method1: 10 \t , method2: 10\n",
      "For n:7 \t m:7 \t..\t method1: 1716 \t , method2: 1716\n",
      "For n:9 \t m:9 \t..\t method1: 24310 \t , method2: 24310\n",
      "For n:12 \t m:11 \t..\t method1: 646646 \t , method2: 646646\n",
      "For n:23 \t m:20 \t..\t method1: 775307678 \t , method2: 775307678\n",
      "For n:31 \t m:29 \t..\t method1: 893117287 \t , method2: 893117287\n",
      "For n:19 \t m:81 \t..\t method1: 385224610 \t , method2: 385223284\n",
      "For n:100 \t m:23 \t..\t method1: 540415688 \t , method2: 473756882\n",
      "For n:100 \t m:90 \t..\t method1: 663494336 \t , method2: 879547529\n"
     ]
    }
   ],
   "source": [
    "check_list = [(1, 1), (2, 1), (1, 2), (3, 3), (4, 6), (4,4), (2,4), (4,2), (3, 2), (2,3), (7, 8), (8,7), (7, 5), \n",
    "              (5, 7), (3, 3), (2, 9), (8, 3), (3,6), (6,3),\n",
    "              (6, 9), (9, 2), (7, 7), (9, 9), (12, 11), (23, 20), (31, 29), (19, 81), (100, 23), (100, 90)]\n",
    "for n, m in check_list:\n",
    "    print(f\"For n:{n} \\t m:{m} \\t..\\t method1: {solve(n, m)} \\t , method2: {series_started_by1(n, m)}\")"
   ]
  },
  {
   "cell_type": "markdown",
   "metadata": {},
   "source": [
    "### Test for large number"
   ]
  },
  {
   "cell_type": "code",
   "execution_count": 4,
   "metadata": {},
   "outputs": [
    {
     "name": "stdout",
     "output_type": "stream",
     "text": [
      "769859017\n",
      "586148781\n",
      "360229250\n",
      "597385102\n",
      "154525273\n",
      "482800871\n"
     ]
    }
   ],
   "source": [
    "check_list_large_num = [(522, 575), (772, 81), (121, 666), (982, 784), (991, 310), (999, 999)]\n",
    "for n, m in check_list_large_num:\n",
    "    print(series_started_by1(n, m))"
   ]
  }
 ],
 "metadata": {
  "kernelspec": {
   "display_name": "Python 3",
   "language": "python",
   "name": "python3"
  },
  "language_info": {
   "codemirror_mode": {
    "name": "ipython",
    "version": 3
   },
   "file_extension": ".py",
   "mimetype": "text/x-python",
   "name": "python",
   "nbconvert_exporter": "python",
   "pygments_lexer": "ipython3",
   "version": "3.10.13"
  }
 },
 "nbformat": 4,
 "nbformat_minor": 2
}
