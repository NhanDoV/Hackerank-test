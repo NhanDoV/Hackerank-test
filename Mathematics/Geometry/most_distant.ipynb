{
 "cells": [
  {
   "cell_type": "markdown",
   "metadata": {},
   "source": [
    "# Introduction\n",
    "[Reference](https://www.hackerrank.com/challenges/most-distant/problem)"
   ]
  },
  {
   "cell_type": "code",
   "execution_count": 1,
   "metadata": {},
   "outputs": [
    {
     "name": "stdout",
     "output_type": "stream",
     "text": [
      "A:0 B:1 then AB:2.0\n",
      "A:0 B:2 then AB:1.4142135623730951\n",
      "A:0 B:3 then AB:1.4142135623730951\n",
      "A:1 B:2 then AB:1.4142135623730951\n",
      "A:1 B:3 then AB:1.4142135623730951\n",
      "A:2 B:3 then AB:2.0\n"
     ]
    }
   ],
   "source": [
    "from math import sqrt\n",
    "\n",
    "def single_edge(x1, y1, x2, y2):\n",
    "    return sqrt( (x1 - x2)**2 + (y1 - y2)**2 )\n",
    "\n",
    "ls = [(-1, 0), (1, 0), (0, 1), (0, -1)]\n",
    "N = len(ls)\n",
    "for z1 in range(0, N):\n",
    "    for z2 in range(1+z1, N):\n",
    "        x1, y1 = ls[z1]\n",
    "        x2, y2 = ls[z2]\n",
    "        print(f\"A:{z1} B:{z2} then AB:{single_edge(x1,y1,x2,y2)}\")"
   ]
  },
  {
   "cell_type": "markdown",
   "metadata": {},
   "source": [
    "### Disadvantage\n",
    "What happened if we have these following constraints\n",
    "- All the coordinates are distinct, and \n",
    "- either their $x$ or $y$ coordinate is equal to $0$"
   ]
  },
  {
   "cell_type": "code",
   "execution_count": 2,
   "metadata": {},
   "outputs": [
    {
     "name": "stdout",
     "output_type": "stream",
     "text": [
      "Comparison: 2.0, 2.0\n"
     ]
    }
   ],
   "source": [
    "def solve_best(coordinates):\n",
    "    dist = []\n",
    "    # Make sure either their x or y axis is equal to 0\n",
    "    xs = sorted([x for x,y in coordinates if y == 0])\n",
    "    ys = sorted([y for x,y in coordinates if y!= 0])    \n",
    "    ret = 0\n",
    "    # find max-dist on x-axis where xs is ordered\n",
    "    if len(xs) > 0:\n",
    "        # x_dist = 0 if xs is empty otherwise equal to distance from the smallest-highest coordinate\n",
    "        ret = max(ret, (xs[-1] - xs[0])**2)\n",
    "\n",
    "    # find max-dist on y-axis\n",
    "    if len(ys) > 0:\n",
    "        ret = max(ret, (ys[-1] - ys[0])**2)\n",
    "\n",
    "    # if both x-axis and y-axis is not empty\n",
    "    if len(xs) > 0 and len(ys) > 0:\n",
    "        xx = max(abs(x) for x in xs)\n",
    "        yy = max(abs(y) for y in ys)\n",
    "        ret = max(ret, xx**2 + yy**2)\n",
    "    return sqrt(ret)\n",
    "\n",
    "def solve(coordinates):\n",
    "    dist = []\n",
    "    # Obtain the coordinates is distinct (or unique)\n",
    "    N = len(coordinates)\n",
    "    for z1 in range(0, N):\n",
    "        for z2 in range(1+z1, N):\n",
    "            x1, y1 = coordinates[z1]\n",
    "            x2, y2 = coordinates[z2]\n",
    "            dist.append(single_edge(x1, y1, x2, y2))\n",
    "    return max(dist)\n",
    "\n",
    "print(f\"Comparison: {solve_best(ls)}, {solve(ls)}\")"
   ]
  },
  {
   "cell_type": "code",
   "execution_count": 3,
   "metadata": {},
   "outputs": [
    {
     "name": "stdout",
     "output_type": "stream",
     "text": [
      "CPU times: user 457 µs, sys: 126 µs, total: 583 µs\n",
      "Wall time: 585 µs\n",
      "CPU times: user 23 µs, sys: 0 ns, total: 23 µs\n",
      "Wall time: 25.3 µs\n"
     ]
    },
    {
     "data": {
      "text/plain": [
       "1019633029033.0"
      ]
     },
     "execution_count": 3,
     "metadata": {},
     "output_type": "execute_result"
    }
   ],
   "source": [
    "check_list = [ (0, -234595071), (0, -451917955), (-433114480, 0), (-647734116, 0), (-870372659, 0),\n",
    "               (-345853962, 0), (0, -782572779), (192919191, 0), (0, -20201013138), (-21012919183, 0),\n",
    "               (727711216216, 0), (-8181281281, 0), (-291921812817, 0), (0, -7127216126), (-281281818, 0),\n",
    "               (0, 102101), (-2121, 921219), (929191, -12), (-192191919, 0), (212, 0), (298, 0), (121, 0),\n",
    "               (120, -2),  (0, 121), (81818, 88117), (92919129, 1010120120), (919191, 0), (0, -919126),\n",
    "               (81821817, -8181818), (-9191917, 0), (0, -8281217), (0, -6521515), (0, -325561615)\n",
    "              ]\n",
    "%time solve(check_list)\n",
    "%time solve_best(check_list)"
   ]
  },
  {
   "cell_type": "markdown",
   "metadata": {},
   "source": [
    "### Verification"
   ]
  },
  {
   "cell_type": "code",
   "execution_count": 4,
   "metadata": {},
   "outputs": [
    {
     "name": "stdout",
     "output_type": "stream",
     "text": [
      "CPU times: user 26.2 s, sys: 826 ms, total: 27.1 s\n",
      "Wall time: 27.3 s\n"
     ]
    },
    {
     "data": {
      "text/plain": [
       "2681297096.002667"
      ]
     },
     "execution_count": 4,
     "metadata": {},
     "output_type": "execute_result"
    }
   ],
   "source": [
    "import numpy as np\n",
    "N = 10000\n",
    "xs = np.random.randint(-988919191, 919191999, N)\n",
    "ys = np.random.randint(-988919191, 919191999, N)\n",
    "check_list = [(x, y) for x, y in zip(xs, ys)]\n",
    "%time solve(check_list)"
   ]
  },
  {
   "cell_type": "code",
   "execution_count": 5,
   "metadata": {},
   "outputs": [
    {
     "name": "stdout",
     "output_type": "stream",
     "text": [
      "CPU times: user 6.71 ms, sys: 0 ns, total: 6.71 ms\n",
      "Wall time: 8.46 ms\n"
     ]
    },
    {
     "data": {
      "text/plain": [
       "1907433147.0"
      ]
     },
     "execution_count": 5,
     "metadata": {},
     "output_type": "execute_result"
    }
   ],
   "source": [
    "%time solve_best(check_list)"
   ]
  }
 ],
 "metadata": {
  "kernelspec": {
   "display_name": "Python 3",
   "language": "python",
   "name": "python3"
  },
  "language_info": {
   "codemirror_mode": {
    "name": "ipython",
    "version": 3
   },
   "file_extension": ".py",
   "mimetype": "text/x-python",
   "name": "python",
   "nbconvert_exporter": "python",
   "pygments_lexer": "ipython3",
   "version": "3.10.13"
  }
 },
 "nbformat": 4,
 "nbformat_minor": 2
}
