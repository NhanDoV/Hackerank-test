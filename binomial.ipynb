{
  "nbformat": 4,
  "nbformat_minor": 0,
  "metadata": {
    "colab": {
      "provenance": [],
      "authorship_tag": "ABX9TyN46IgTNMvj/rVJsuIIY0zs",
      "include_colab_link": true
    },
    "kernelspec": {
      "name": "python3",
      "display_name": "Python 3"
    }
  },
  "cells": [
    {
      "cell_type": "markdown",
      "metadata": {
        "id": "view-in-github",
        "colab_type": "text"
      },
      "source": [
        "<a href=\"https://colab.research.google.com/github/NhanDoV/Hackerank-test/blob/main/binomial.ipynb\" target=\"_parent\"><img src=\"https://colab.research.google.com/assets/colab-badge.svg\" alt=\"Open In Colab\"/></a>"
      ]
    },
    {
      "cell_type": "code",
      "metadata": {
        "colab": {
          "base_uri": "https://localhost:8080/"
        },
        "id": "0j0MbhrEN8O6",
        "outputId": "02eeabf1-c21a-457b-c0b9-3c9729e4b8fd"
      },
      "source": [
        "!git clone https://github.com/adeoy/FacebookPostsScraper.git\n",
        "# import FacebookPostsScraper.FacebookPostsScraper as Fps\n",
        "# from pprint import pprint as pp\n",
        "# Instantiate an object\n",
        "# fps = Fps(email, password, post_url_text='Full Story')"
      ],
      "execution_count": null,
      "outputs": [
        {
          "output_type": "stream",
          "text": [
            "Cloning into 'FacebookPostsScraper'...\n",
            "remote: Enumerating objects: 23, done.\u001b[K\n",
            "remote: Counting objects: 100% (23/23), done.\u001b[K\n",
            "remote: Compressing objects: 100% (23/23), done.\u001b[K\n",
            "remote: Total 23 (delta 8), reused 7 (delta 0), pack-reused 0\u001b[K\n",
            "Unpacking objects: 100% (23/23), done.\n"
          ],
          "name": "stdout"
        }
      ]
    },
    {
      "cell_type": "markdown",
      "source": [
        "## Binomial 1\n",
        "\n",
        "A blindfolded marksman finds that on the average he hits the target 4 times out of 5. If he fires 4 shots, what is the probability of\n",
        "\n",
        "- (a) more than 2 hits?\n",
        "- (b) at least 3 misses?"
      ],
      "metadata": {
        "id": "dbJ9D0XBiYfb"
      }
    },
    {
      "cell_type": "code",
      "metadata": {
        "colab": {
          "base_uri": "https://localhost:8080/"
        },
        "id": "4Sk-jMoZN9v7",
        "outputId": "836fead2-ae1d-4904-8079-f3c22f2a4580"
      },
      "source": [
        "# !pip install -r requirements.txt\n",
        "\n",
        "# Enter your code here. Read input from STDIN. Print output to STDOUT\n",
        "def factorial(n):\n",
        "    if n == 0:\n",
        "        return 1\n",
        "    else:\n",
        "        return n*factorial(n-1)\n",
        "def comb(n, k):\n",
        "    return factorial(n) / (factorial(k) * factorial(n-k))\n",
        "\n",
        "p = 4/5\n",
        "print(round(sum([int(comb(4, k))*p**k * (1-p)**(4-k) for k in [3, 4]]), 3))\n",
        "print(round(sum([int(comb(4, k))*p**k * (1-p)**(4-k) for k in [0, 1]]), 3))"
      ],
      "execution_count": 4,
      "outputs": [
        {
          "output_type": "stream",
          "name": "stdout",
          "text": [
            "0.819\n",
            "0.027\n"
          ]
        }
      ]
    },
    {
      "cell_type": "markdown",
      "source": [
        "## Binomial 2\n",
        "The ratio of boys to girls born in Russia is `1.09:1`.\n",
        "\n",
        "What proportion of Russian families with exactly 6 children will have at least 3 boys? (Ignore the probability of multiple births.)"
      ],
      "metadata": {
        "id": "RpDJ0XDvjQrK"
      }
    },
    {
      "cell_type": "code",
      "metadata": {
        "id": "SFWjIqTKOB6a",
        "colab": {
          "base_uri": "https://localhost:8080/"
        },
        "outputId": "94d6f1ff-87d7-462b-c377-b042a9af34f4"
      },
      "source": [
        "p_boy = 1.09 / (1 + 1.09)\n",
        "n = 6\n",
        "sum([comb(n, k) * p_boy**k * (1-p_boy)**(6-k) for k in range(3, 7)])"
      ],
      "execution_count": 5,
      "outputs": [
        {
          "output_type": "execute_result",
          "data": {
            "text/plain": [
              "0.6957033161509107"
            ]
          },
          "metadata": {},
          "execution_count": 5
        }
      ]
    },
    {
      "cell_type": "markdown",
      "source": [
        "## Binomial 3\n",
        "A manufacturer of metal pistons finds that on average, 12% of his pistons are rejected because they are either oversized or undersized. What is the probability that a batch of 10 pistons will contain\n",
        "\n",
        "- (a) no more than 2 rejects?\n",
        "- (b) at least 2 rejects?"
      ],
      "metadata": {
        "id": "LcaxnOp5rOdi"
      }
    },
    {
      "cell_type": "code",
      "metadata": {
        "colab": {
          "base_uri": "https://localhost:8080/"
        },
        "id": "XaRP3nD7OH4j",
        "outputId": "099b7b83-721b-46b3-8d23-b3422d45dad2"
      },
      "source": [
        "p_rej = 0.12\n",
        "N = 10\n",
        "# a) No more than 2 rejects {0,1,2}\n",
        "prob_a = sum([comb(N, k)*p_rej**k*(1-p_rej)**(N-k) for k in range(3)])\n",
        "# b)\n",
        "prob_b = sum([comb(N, k)*p_rej**k*(1-p_rej)**(N-k) for k in range(2, 11)])\n",
        "print(round(prob_a, 3))\n",
        "print(round(prob_b, 3))"
      ],
      "execution_count": 6,
      "outputs": [
        {
          "output_type": "stream",
          "name": "stdout",
          "text": [
            "0.891\n",
            "0.342\n"
          ]
        }
      ]
    }
  ]
}